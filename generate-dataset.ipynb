{
 "cells": [
  {
   "cell_type": "code",
   "execution_count": 1,
   "metadata": {},
   "outputs": [
    {
     "name": "stderr",
     "output_type": "stream",
     "text": [
      "/home/ubuntu/miniconda3/envs/env/lib/python3.10/site-packages/tqdm/auto.py:21: TqdmWarning: IProgress not found. Please update jupyter and ipywidgets. See https://ipywidgets.readthedocs.io/en/stable/user_install.html\n",
      "  from .autonotebook import tqdm as notebook_tqdm\n"
     ]
    },
    {
     "name": "stdout",
     "output_type": "stream",
     "text": [
      "Tue Jul  2 13:17:26 2024       \n",
      "+---------------------------------------------------------------------------------------+\n",
      "| NVIDIA-SMI 535.183.01             Driver Version: 535.183.01   CUDA Version: 12.2     |\n",
      "|-----------------------------------------+----------------------+----------------------+\n",
      "| GPU  Name                 Persistence-M | Bus-Id        Disp.A | Volatile Uncorr. ECC |\n",
      "| Fan  Temp   Perf          Pwr:Usage/Cap |         Memory-Usage | GPU-Util  Compute M. |\n",
      "|                                         |                      |               MIG M. |\n",
      "|=========================================+======================+======================|\n",
      "|   0  NVIDIA A10G                    Off | 00000000:00:1B.0 Off |                    0 |\n",
      "|  0%   35C    P0              68W / 300W |   5490MiB / 23028MiB |     22%      Default |\n",
      "|                                         |                      |                  N/A |\n",
      "+-----------------------------------------+----------------------+----------------------+\n",
      "|   1  NVIDIA A10G                    Off | 00000000:00:1C.0 Off |                    0 |\n",
      "|  0%   45C    P0             142W / 300W |   8426MiB / 23028MiB |     79%      Default |\n",
      "|                                         |                      |                  N/A |\n",
      "+-----------------------------------------+----------------------+----------------------+\n",
      "|   2  NVIDIA A10G                    Off | 00000000:00:1D.0 Off |                    0 |\n",
      "|  0%   48C    P0             128W / 300W |  16618MiB / 23028MiB |      0%      Default |\n",
      "|                                         |                      |                  N/A |\n",
      "+-----------------------------------------+----------------------+----------------------+\n",
      "|   3  NVIDIA A10G                    Off | 00000000:00:1E.0 Off |                    0 |\n",
      "|  0%   29C    P8              16W / 300W |      0MiB / 23028MiB |      0%      Default |\n",
      "|                                         |                      |                  N/A |\n",
      "+-----------------------------------------+----------------------+----------------------+\n",
      "                                                                                         \n",
      "+---------------------------------------------------------------------------------------+\n",
      "| Processes:                                                                            |\n",
      "|  GPU   GI   CI        PID   Type   Process name                            GPU Memory |\n",
      "|        ID   ID                                                             Usage      |\n",
      "|=======================================================================================|\n",
      "|    0   N/A  N/A     64695      C   ...untu/miniconda3/envs/env/bin/python     5482MiB |\n",
      "|    1   N/A  N/A     64695      C   ...untu/miniconda3/envs/env/bin/python     8418MiB |\n",
      "|    2   N/A  N/A     64695      C   ...untu/miniconda3/envs/env/bin/python    16610MiB |\n",
      "+---------------------------------------------------------------------------------------+\n"
     ]
    },
    {
     "data": {
      "text/plain": [
       "'NVIDIA A10G'"
      ]
     },
     "execution_count": 1,
     "metadata": {},
     "output_type": "execute_result"
    }
   ],
   "source": [
    "\n",
    "import os\n",
    "os.environ[\"CUDA_VISIBLE_DEVICES\"]=\"3\" # only use this/these gpus\n",
    "import torch\n",
    "from transformers import AutoTokenizer, AutoModelForCausalLM\n",
    "import pandas as pd\n",
    "import torch\n",
    "\n",
    "!nvidia-smi\n",
    "torch.cuda.get_device_name()\n"
   ]
  },
  {
   "cell_type": "code",
   "execution_count": 2,
   "metadata": {},
   "outputs": [
    {
     "name": "stderr",
     "output_type": "stream",
     "text": [
      "The `load_in_4bit` and `load_in_8bit` arguments are deprecated and will be removed in the future versions. Please, pass a `BitsAndBytesConfig` object in `quantization_config` argument instead.\n",
      "`low_cpu_mem_usage` was None, now set to True since model is quantized.\n",
      "/home/ubuntu/miniconda3/envs/env/lib/python3.10/site-packages/transformers/generation/configuration_utils.py:540: UserWarning: `do_sample` is set to `False`. However, `temperature` is set to `0` -- this flag is only used in sample-based generation modes. You should set `do_sample=True` or unset `temperature`. This was detected when initializing the generation config instance, which means the corresponding file may hold incorrect parameterization and should be fixed.\n",
      "  warnings.warn(\n",
      "/home/ubuntu/miniconda3/envs/env/lib/python3.10/site-packages/transformers/generation/configuration_utils.py:540: UserWarning: `do_sample` is set to `False`. However, `temperature` is set to `0` -- this flag is only used in sample-based generation modes. You should set `do_sample=True` or unset `temperature`.\n",
      "  warnings.warn(\n",
      "Loading checkpoint shards: 100%|██████████| 3/3 [00:05<00:00,  1.86s/it]\n"
     ]
    }
   ],
   "source": [
    "# load model and tokenizer\n",
    "\n",
    "model = AutoModelForCausalLM.from_pretrained(\n",
    "    '../cense_csv/models/Llama-2-13b-hf-conversion-cense',\n",
    "    #'../cense_csv/models/gemma-2-9b-conversion-cense',\n",
    "\n",
    "    load_in_4bit=True,\n",
    "    temperature = 0\n",
    ")\n",
    "\n",
    "tokenizer = AutoTokenizer.from_pretrained(\n",
    "    '../cense_csv/models/Llama-2-13b-hf-conversion-cense'\n",
    "    #'../cense_csv/models/gemma-2-9b-conversion-cense',\n",
    "    ) \n",
    "\n",
    "tokenizer.pad_token = tokenizer.eos_token \n",
    "eos_token_id = tokenizer.eos_token_id"
   ]
  },
  {
   "cell_type": "code",
   "execution_count": 3,
   "metadata": {},
   "outputs": [
    {
     "name": "stdout",
     "output_type": "stream",
     "text": [
      "transfersFile-0\n",
      "row: \n",
      " {'file_name': 'transfersFile-0', 'source': {'Email': 'nils.burde@gmail.com', 'Date (UTC)': '2022-05-02 14:06:41', 'Transaction ID': 'ba2760d9-40b1-4396-876b-96ef38b6fe1a', 'Type': 'Transfer from spot to wallet', 'Amount': 14.65337013, 'Fee': '-', 'Transaction hash': nan, 'Main account balance': 29.16113598, 'Currency': 'CRPT', 'file_name': 'transfersFile-0'}}, 'target':\n"
     ]
    },
    {
     "name": "stderr",
     "output_type": "stream",
     "text": [
      "/home/ubuntu/miniconda3/envs/env/lib/python3.10/site-packages/bitsandbytes/nn/modules.py:426: UserWarning: Input type into Linear4bit is torch.float16, but bnb_4bit_compute_dtype=torch.float32 (default). This will lead to slow inference or training speed.\n",
      "  warnings.warn(\n"
     ]
    },
    {
     "name": "stdout",
     "output_type": "stream",
     "text": [
      "generated: \n",
      " {'file_name': 'transfersFile-0', 'source': {'Email': 'nils.burde@gmail.com', 'Date (UTC)': '2022-05-02 14:06:41', 'Transaction ID': 'ba2760d9-40b1-4396-876b-96ef38b6fe1a', 'Type': 'Transfer from spot to wallet', 'Amount': 14.65337013, 'Fee': '-', 'Transaction hash': nan, 'Main account balance': 29.16113598, 'Currency': 'CRPT', 'file_name': 'transfersFile-0'}}, 'target': {'Date': '05/02/2022 14:06:41', 'inBuyAmount': 14.65337013, 'inBuyAsset': 'CRPT', 'outSellAmount': nan, 'outSellAsset': nan, 'transactionType_raw': 'Transfer from spot to wallet', 'transactionType': 'deposit', 'comments': nan, 'transactionId': 'ba2760d9-40b1-4396-876b-96ef38b6fe1a', 'operationId': nan, 'feeAmount': nan, 'feeAsset': nan}}\n",
      "\n",
      "row: \n",
      " {'file_name': 'transfersFile-0', 'source': {'Email': 'nils.burde@gmail.com', 'Date (UTC)': '2022-04-12 10:59:32', 'Transaction ID': '81a35392-8382-4e97-82ff-8d09de87de4d', 'Type': 'Withdraw', 'Amount': 16.634467, 'Fee': '-', 'Transaction hash': nan, 'Main account balance': 14.50776585, 'Currency': 'CRPT', 'file_name': 'transfersFile-0'}}, 'target':\n",
      "generated: \n",
      " {'file_name': 'transfersFile-0', 'source': {'Email': 'nils.burde@gmail.com', 'Date (UTC)': '2022-04-12 10:59:32', 'Transaction ID': '81a35392-8382-4e97-82ff-8d09de87de4d', 'Type': 'Withdraw', 'Amount': 16.634467, 'Fee': '-', 'Transaction hash': nan, 'Main account balance': 14.50776585, 'Currency': 'CRPT', 'file_name': 'transfersFile-0'}}, 'target': {'Date': '04/12/2022 10:59:32', 'inBuyAmount': nan, 'inBuyAsset': nan, 'outSellAmount': 16.634467, 'outSellAsset': 'CRPT', 'transactionType_raw': 'Withdraw', 'transactionType': 'withdraw', 'comments': nan, 'transactionId': '81a35392-8382-4e97-82ff-8d09de87de4d', 'operationId': nan, 'feeAmount': nan, 'feeAsset': nan}}\n",
      "\n",
      "row: \n",
      " {'file_name': 'transfersFile-0', 'source': {'Email': 'nils.burde@gmail.com', 'Date (UTC)': '2021-07-09 13:29:46', 'Transaction ID': '6e22161a-a12e-4bc3-9110-f6154b598df3', 'Type': 'Withdraw', 'Amount': 4.49e-06, 'Fee': '-', 'Transaction hash': nan, 'Main account balance': 4.49e-06, 'Currency': 'BTC', 'file_name': 'transfersFile-0'}}, 'target':\n",
      "generated: \n",
      " {'file_name': 'transfersFile-0', 'source': {'Email': 'nils.burde@gmail.com', 'Date (UTC)': '2021-07-09 13:29:46', 'Transaction ID': '6e22161a-a12e-4bc3-9110-f6154b598df3', 'Type': 'Withdraw', 'Amount': 4.49e-06, 'Fee': '-', 'Transaction hash': nan, 'Main account balance': 4.49e-06, 'Currency': 'BTC', 'file_name': 'transfersFile-0'}}, 'target': {'Date': '07/09/2021 13:29:46', 'inBuyAmount': nan, 'inBuyAsset': nan, 'outSellAmount': 4.49e-06, 'outSellAsset': 'BTC', 'transactionType_raw': 'Withdraw', 'transactionType': 'withdraw', 'comments': nan, 'transactionId': '6e22161a-a12e-4bc3-9110-f6154b598df3', 'operationId': nan, 'feeAmount': nan, 'feeAsset': nan}}\n",
      "\n",
      "row: \n",
      " {'file_name': 'transfersFile-0', 'source': {'Email': 'nils.burde@gmail.com', 'Date (UTC)': '2021-07-09 13:31:11', 'Transaction ID': '6c4371f5-4446-4e88-8259-c2805799e57b', 'Type': 'Withdraw', 'Amount': 31.14223285, 'Fee': '-', 'Transaction hash': nan, 'Main account balance': 31.14223285, 'Currency': 'CRPT', 'file_name': 'transfersFile-0'}}, 'target':\n",
      "generated: \n",
      " {'file_name': 'transfersFile-0', 'source': {'Email': 'nils.burde@gmail.com', 'Date (UTC)': '2021-07-09 13:31:11', 'Transaction ID': '6c4371f5-4446-4e88-8259-c2805799e57b', 'Type': 'Withdraw', 'Amount': 31.14223285, 'Fee': '-', 'Transaction hash': nan, 'Main account balance': 31.14223285, 'Currency': 'CRPT', 'file_name': 'transfersFile-0'}}, 'target': {'Date': '07/09/2021 13:31:11', 'inBuyAmount': nan, 'inBuyAsset': nan, 'outSellAmount': 31.14223285, 'outSellAsset': 'CRPT', 'transactionType_raw': 'Withdraw', 'transactionType': 'withdraw', 'comments': nan, 'transactionId': '6c4371f5-4446-4e88-8259-c2805799e57b', 'operationId': nan, 'feeAmount': nan, 'feeAsset': nan}}\n",
      "\n",
      "row: \n",
      " {'file_name': 'transfersFile-0', 'source': {'Email': 'nils.burde@gmail.com', 'Date (UTC)': '2021-07-07 17:31:29', 'Transaction ID': '83572059-3f52-4b11-acad-7ca9d94f18d0', 'Type': 'Transfer from spot to wallet', 'Amount': 31.14223285, 'Fee': '-', 'Transaction hash': nan, 'Main account balance': 31.14223285, 'Currency': 'CRPT', 'file_name': 'transfersFile-0'}}, 'target':\n",
      "generated: \n",
      " {'file_name': 'transfersFile-0', 'source': {'Email': 'nils.burde@gmail.com', 'Date (UTC)': '2021-07-07 17:31:29', 'Transaction ID': '83572059-3f52-4b11-acad-7ca9d94f18d0', 'Type': 'Transfer from spot to wallet', 'Amount': 31.14223285, 'Fee': '-', 'Transaction hash': nan, 'Main account balance': 31.14223285, 'Currency': 'CRPT', 'file_name': 'transfersFile-0'}}, 'target': {'Date': '07/07/2021 17:31:29', 'inBuyAmount': 31.14223285, 'inBuyAsset': 'CRPT', 'outSellAmount': nan, 'outSellAsset': nan, 'transactionType_raw': 'Transfer from spot to wallet', 'transactionType': 'deposit', 'comments': nan, 'transactionId': '83572059-3f52-4b11-acad-7ca9d94f18d0', 'operationId': nan, 'feeAmount': nan, 'feeAsset': nan}}\n",
      "\n",
      "row: \n",
      " {'file_name': 'transfersFile-0', 'source': {'Email': 'nils.burde@gmail.com', 'Date (UTC)': '2021-07-07 17:31:29', 'Transaction ID': '98e0b3de-5f4d-4599-baa1-60d438c58a3e', 'Type': 'Transfer from spot to wallet', 'Amount': 4.49e-06, 'Fee': '-', 'Transaction hash': nan, 'Main account balance': 4.49e-06, 'Currency': 'BTC', 'file_name': 'transfersFile-0'}}, 'target':\n",
      "generated: \n",
      " {'file_name': 'transfersFile-0', 'source': {'Email': 'nils.burde@gmail.com', 'Date (UTC)': '2021-07-07 17:31:29', 'Transaction ID': '98e0b3de-5f4d-4599-baa1-60d438c58a3e', 'Type': 'Transfer from spot to wallet', 'Amount': 4.49e-06, 'Fee': '-', 'Transaction hash': nan, 'Main account balance': 4.49e-06, 'Currency': 'BTC', 'file_name': 'transfersFile-0'}}, 'target': {'Date': '07/07/2021 17:31:29', 'inBuyAmount': 4.49e-06, 'inBuyAsset': 'BTC', 'outSellAmount': nan, 'outSellAsset': nan, 'transactionType_raw': 'Transfer from spot to wallet', 'transactionType': 'deposit', 'comments': nan, 'transactionId': '98e0b3de-5f4d-4599-baa1-60d438c58a3e', 'operationId': nan, 'feeAmount': nan, 'feeAsset': nan}}\n",
      "\n",
      "row: \n",
      " {'file_name': 'transfersFile-0', 'source': {'Email': 'nils.burde@gmail.com', 'Date (UTC)': '2018-08-27 13:53:29', 'Transaction ID': 'eab6d95b-d212-454f-b47d-70438da75534', 'Type': 'Withdraw', 'Amount': 1.57188222, 'Fee': '0.00958', 'Transaction hash': '0xd0f88d8e3e0712bedfba96de506cecdc002f1e06d32e283b797f9f81e27404ee', 'Main account balance': 0.0, 'Currency': 'ETH', 'file_name': 'transfersFile-0'}}, 'target':\n",
      "generated: \n",
      " {'file_name': 'transfersFile-0', 'source': {'Email': 'nils.burde@gmail.com', 'Date (UTC)': '2018-08-27 13:53:29', 'Transaction ID': 'eab6d95b-d212-454f-b47d-70438da75534', 'Type': 'Withdraw', 'Amount': 1.57188222, 'Fee': '0.00958', 'Transaction hash': '0xd0f88d8e3e0712bedfba96de506cecdc002f1e06d32e283b797f9f81e27404ee', 'Main account balance': 0.0, 'Currency': 'ETH', 'file_name': 'transfersFile-0'}}, 'target': {'Date': '08/27/2018 13:53:29', 'inBuyAmount': nan, 'inBuyAsset': nan, 'outSellAmount': 1.57188222, 'outSellAsset': 'ETH', 'transactionType_raw': 'Withdraw', 'transactionType': 'withdraw', 'comments': nan, 'transactionId': 'eab6d95b-d212-454f-b47d-70438da75534', 'operationId': nan, 'feeAmount': 0.00958, 'feeAsset': 'ETH'}}\n",
      "\n",
      "row: \n",
      " {'file_name': 'transfersFile-0', 'source': {'Email': 'nils.burde@gmail.com', 'Date (UTC)': '2018-08-27 13:42:33', 'Transaction ID': '372d6baf-02eb-44d8-9da1-cebe46eda631', 'Type': 'Transfer from spot to wallet', 'Amount': 1.097, 'Fee': '-', 'Transaction hash': nan, 'Main account balance': 1.58146222, 'Currency': 'ETH', 'file_name': 'transfersFile-0'}}, 'target':\n",
      "generated: \n",
      " {'file_name': 'transfersFile-0', 'source': {'Email': 'nils.burde@gmail.com', 'Date (UTC)': '2018-08-27 13:42:33', 'Transaction ID': '372d6baf-02eb-44d8-9da1-cebe46eda631', 'Type': 'Transfer from spot to wallet', 'Amount': 1.097, 'Fee': '-', 'Transaction hash': nan, 'Main account balance': 1.58146222, 'Currency': 'ETH', 'file_name': 'transfersFile-0'}}, 'target': {'Date': '08/27/2018 13:42:33', 'inBuyAmount': 1.097, 'inBuyAsset': 'ETH', 'outSellAmount': nan, 'outSellAsset': nan, 'transactionType_raw': 'Transfer from spot to wallet', 'transactionType': 'deposit', 'comments': nan, 'transactionId': '372d6baf-02eb-44d8-9da1-cebe46eda631', 'operationId': nan, 'feeAmount': nan, 'feeAsset': nan}}\n",
      "\n",
      "row: \n",
      " {'file_name': 'transfersFile-0', 'source': {'Email': 'nils.burde@gmail.com', 'Date (UTC)': '2018-08-27 13:29:35', 'Transaction ID': '6a4ac40e-c6ba-4f7b-8b1e-243f46d8fc94', 'Type': 'Transfer from wallet to spot', 'Amount': 0.0452487, 'Fee': '-', 'Transaction hash': nan, 'Main account balance': 0.0, 'Currency': 'BTC', 'file_name': 'transfersFile-0'}}, 'target':\n",
      "generated: \n",
      " {'file_name': 'transfersFile-0', 'source': {'Email': 'nils.burde@gmail.com', 'Date (UTC)': '2018-08-27 13:29:35', 'Transaction ID': '6a4ac40e-c6ba-4f7b-8b1e-243f46d8fc94', 'Type': 'Transfer from wallet to spot', 'Amount': 0.0452487, 'Fee': '-', 'Transaction hash': nan, 'Main account balance': 0.0, 'Currency': 'BTC', 'file_name': 'transfersFile-0'}}, 'target': {'Date': '08/27/2018 13:29:35', 'inBuyAmount': 0.0452487, 'inBuyAsset': 'BTC', 'outSellAmount': nan, 'outSellAsset': nan, 'transactionType_raw': 'Transfer from wallet to spot', 'transactionType': 'deposit', 'comments': nan, 'transactionId': '6a4ac40e-c6ba-4f7b-8b1e-243f46d8fc94', 'operationId': nan, 'feeAmount': nan, 'feeAsset': nan}}\n",
      "\n",
      "row: \n",
      " {'file_name': 'transfersFile-0', 'source': {'Email': 'nils.burde@gmail.com', 'Date (UTC)': '2018-08-27 13:27:45', 'Transaction ID': '1fa50322-9125-4e44-a39e-4aa0ab320a3e', 'Type': 'Transfer from spot to wallet', 'Amount': 0.0452487, 'Fee': '-', 'Transaction hash': nan, 'Main account balance': 0.0452487, 'Currency': 'BTC', 'file_name': 'transfersFile-0'}}, 'target':\n",
      "generated: \n",
      " {'file_name': 'transfersFile-0', 'source': {'Email': 'nils.burde@gmail.com', 'Date (UTC)': '2018-08-27 13:27:45', 'Transaction ID': '1fa50322-9125-4e44-a39e-4aa0ab320a3e', 'Type': 'Transfer from spot to wallet', 'Amount': 0.0452487, 'Fee': '-', 'Transaction hash': nan, 'Main account balance': 0.0452487, 'Currency': 'BTC', 'file_name': 'transfersFile-0'}}, 'target': {'Date': '08/27/2018 13:27:45', 'inBuyAmount': 0.0452487, 'inBuyAsset': 'BTC', 'outSellAmount': nan, 'outSellAsset': nan, 'transactionType_raw': 'Transfer from spot to wallet', 'transactionType': 'deposit', 'comments': nan, 'transactionId': '1fa50322-9125-4e44-a39e-4aa0ab320a3e', 'operationId': nan, 'feeAmount': nan, 'feeAsset': nan}}\n",
      "\n",
      "row: \n",
      " {'file_name': 'transfersFile-0', 'source': {'Email': 'nils.burde@gmail.com', 'Date (UTC)': '2018-05-16 20:58:38', 'Transaction ID': '4de0ea99-e856-4df1-b618-052d44795882', 'Type': 'Transfer from wallet to spot', 'Amount': 472.50812078, 'Fee': '-', 'Transaction hash': nan, 'Main account balance': 0.0, 'Currency': 'CRPT', 'file_name': 'transfersFile-0'}}, 'target':\n",
      "generated: \n",
      " {'file_name': 'transfersFile-0', 'source': {'Email': 'nils.burde@gmail.com', 'Date (UTC)': '2018-05-16 20:58:38', 'Transaction ID': '4de0ea99-e856-4df1-b618-052d44795882', 'Type': 'Transfer from wallet to spot', 'Amount': 472.50812078, 'Fee': '-', 'Transaction hash': nan, 'Main account balance': 0.0, 'Currency': 'CRPT', 'file_name': 'transfersFile-0'}}, 'target': {'Date': '05/16/2018 20:58:38', 'inBuyAmount': 472.50812078, 'inBuyAsset': 'CRPT', 'outSellAmount': nan, 'outSellAsset': nan, 'transactionType_raw': 'Transfer from wallet to spot', 'transactionType': 'deposit', 'comments': nan, 'transactionId': '4de0ea99-e856-4df1-b618-052d44795882', 'operationId': nan, 'feeAmount': nan, 'feeAsset': nan}}\n",
      "\n",
      "row: \n",
      " {'file_name': 'transfersFile-0', 'source': {'Email': 'nils.burde@gmail.com', 'Date (UTC)': '2018-05-16 20:45:25', 'Transaction ID': 'c96563f8-e0e3-4596-9cda-68ada828fcf5', 'Type': 'Deposit', 'Amount': 472.50812078, 'Fee': '-', 'Transaction hash': '0xfd578cb2629ab5a5cf0523a619816670c6992b40404748eacfe989f9eacb2d9b', 'Main account balance': 472.50812078, 'Currency': 'CRPT', 'file_name': 'transfersFile-0'}}, 'target':\n",
      "generated: \n",
      " {'file_name': 'transfersFile-0', 'source': {'Email': 'nils.burde@gmail.com', 'Date (UTC)': '2018-05-16 20:45:25', 'Transaction ID': 'c96563f8-e0e3-4596-9cda-68ada828fcf5', 'Type': 'Deposit', 'Amount': 472.50812078, 'Fee': '-', 'Transaction hash': '0xfd578cb2629ab5a5cf0523a619816670c6992b40404748eacfe989f9eacb2d9b', 'Main account balance': 472.50812078, 'Currency': 'CRPT', 'file_name': 'transfersFile-0'}}, 'target': {'Date': '05/16/2018 20:45:25', 'inBuyAmount': 472.50812078, 'inBuyAsset': 'CRPT', 'outSellAmount': nan, 'outSellAsset': nan, 'transactionType_raw': 'Deposit', 'transactionType': 'deposit', 'comments': nan, 'transactionId': 'c96563f8-e0e3-4596-9cda-68ada828fcf5', 'operationId': nan, 'feeAmount': nan, 'feeAsset': nan}}\n",
      "\n",
      "row: \n",
      " {'file_name': 'transfersFile-0', 'source': {'Email': 'nils.burde@gmail.com', 'Date (UTC)': '2018-05-16 09:50:47', 'Transaction ID': 'd3d7e572-0297-445f-a476-322ba8e97f59', 'Type': 'Withdraw', 'Amount': 0.09042, 'Fee': '0.00958', 'Transaction hash': '0xfaeae739414d4856c43a803f90d1581cd466197a6bb55e98576172b21d884630', 'Main account balance': 0.48446222, 'Currency': 'ETH', 'file_name': 'transfersFile-0'}}, 'target':\n",
      "generated: \n",
      " {'file_name': 'transfersFile-0', 'source': {'Email': 'nils.burde@gmail.com', 'Date (UTC)': '2018-05-16 09:50:47', 'Transaction ID': 'd3d7e572-0297-445f-a476-322ba8e97f59', 'Type': 'Withdraw', 'Amount': 0.09042, 'Fee': '0.00958', 'Transaction hash': '0xfaeae739414d4856c43a803f90d1581cd466197a6bb55e98576172b21d884630', 'Main account balance': 0.48446222, 'Currency': 'ETH', 'file_name': 'transfersFile-0'}}, 'target': {'Date': '05/16/2018 09:50:47', 'inBuyAmount': nan, 'inBuyAsset': nan, 'outSellAmount': 0.09042, 'outSellAsset': 'ETH', 'transactionType_raw': 'Withdraw', 'transactionType': 'withdraw', 'comments': nan, 'transactionId': 'd3d7e572-0297-445f-a476-322ba8e97f59', 'operationId': nan, 'feeAmount': '0.00958', 'feeAsset': 'ETH'}}\n",
      "\n",
      "row: \n",
      " {'file_name': 'transfersFile-0', 'source': {'Email': 'nils.burde@gmail.com', 'Date (UTC)': '2018-05-16 09:46:05', 'Transaction ID': '571fa8a7-c3d4-436c-b424-6d9f8d2a0622', 'Type': 'Transfer from spot to wallet', 'Amount': 0.58446222, 'Fee': '-', 'Transaction hash': nan, 'Main account balance': 0.58446222, 'Currency': 'ETH', 'file_name': 'transfersFile-0'}}, 'target':\n",
      "generated: \n",
      " {'file_name': 'transfersFile-0', 'source': {'Email': 'nils.burde@gmail.com', 'Date (UTC)': '2018-05-16 09:46:05', 'Transaction ID': '571fa8a7-c3d4-436c-b424-6d9f8d2a0622', 'Type': 'Transfer from spot to wallet', 'Amount': 0.58446222, 'Fee': '-', 'Transaction hash': nan, 'Main account balance': 0.58446222, 'Currency': 'ETH', 'file_name': 'transfersFile-0'}}, 'target': {'Date': '05/16/2018 09:46:05', 'inBuyAmount': 0.58446222, 'inBuyAsset': 'ETH', 'outSellAmount': nan, 'outSellAsset': nan, 'transactionType_raw': 'Transfer from spot to wallet', 'transactionType': 'deposit', 'comments': nan, 'transactionId': '571fa8a7-c3d4-436c-b424-6d9f8d2a0622', 'operationId': nan, 'feeAmount': nan, 'feeAsset': nan}}\n",
      "\n",
      "row: \n",
      " {'file_name': 'transfersFile-0', 'source': {'Email': 'nils.burde@gmail.com', 'Date (UTC)': '2018-01-20 15:31:42', 'Transaction ID': '981bc80c-c77f-4c4a-8766-3edbca4715ca', 'Type': 'Transfer from wallet to spot', 'Amount': 1.28645342, 'Fee': '-', 'Transaction hash': nan, 'Main account balance': 0.0, 'Currency': 'ETH', 'file_name': 'transfersFile-0'}}, 'target':\n",
      "generated: \n",
      " {'file_name': 'transfersFile-0', 'source': {'Email': 'nils.burde@gmail.com', 'Date (UTC)': '2018-01-20 15:31:42', 'Transaction ID': '981bc80c-c77f-4c4a-8766-3edbca4715ca', 'Type': 'Transfer from wallet to spot', 'Amount': 1.28645342, 'Fee': '-', 'Transaction hash': nan, 'Main account balance': 0.0, 'Currency': 'ETH', 'file_name': 'transfersFile-0'}}, 'target': {'Date': '01/20/2018 15:31:42', 'inBuyAmount': 1.28645342, 'inBuyAsset': 'ETH', 'outSellAmount': nan, 'outSellAsset': nan, 'transactionType_raw': 'Transfer from wallet to spot', 'transactionType': 'deposit', 'comments': nan, 'transactionId': '981bc80c-c77f-4c4a-8766-3edbca4715ca', 'operationId': nan, 'feeAmount': nan, 'feeAsset': nan}}\n",
      "\n",
      "row: \n",
      " {'file_name': 'transfersFile-0', 'source': {'Email': 'nils.burde@gmail.com', 'Date (UTC)': '2018-01-20 15:19:02', 'Transaction ID': '0d3a5559-3d5f-484a-a757-a8a818818940', 'Type': 'Deposit', 'Amount': 0.32889342, 'Fee': '-', 'Transaction hash': 'f603ea37b7e160a398826fab08c44f7c3653f7268a32606a0678498b3830a2c0', 'Main account balance': 1.28645342, 'Currency': 'ETH', 'file_name': 'transfersFile-0'}}, 'target':\n",
      "generated: \n",
      " {'file_name': 'transfersFile-0', 'source': {'Email': 'nils.burde@gmail.com', 'Date (UTC)': '2018-01-20 15:19:02', 'Transaction ID': '0d3a5559-3d5f-484a-a757-a8a818818940', 'Type': 'Deposit', 'Amount': 0.32889342, 'Fee': '-', 'Transaction hash': 'f603ea37b7e160a398826fab08c44f7c3653f7268a32606a0678498b3830a2c0', 'Main account balance': 1.28645342, 'Currency': 'ETH', 'file_name': 'transfersFile-0'}}, 'target': {'Date': '01/20/2018 15:19:02', 'inBuyAmount': 0.32889342, 'inBuyAsset': 'ETH', 'outSellAmount': nan, 'outSellAsset': nan, 'transactionType_raw': 'Deposit', 'transactionType': 'deposit', 'comments': nan, 'transactionId': '0d3a5559-3d5f-484a-a757-a8a818818940', 'operationId': nan, 'feeAmount': nan, 'feeAsset': nan}}\n",
      "\n",
      "row: \n",
      " {'file_name': 'transfersFile-0', 'source': {'Email': 'nils.burde@gmail.com', 'Date (UTC)': '2018-01-20 14:56:57', 'Transaction ID': '99e5d1d1-1df7-43dd-9a0c-334db9f9b3fc', 'Type': 'Deposit', 'Amount': 0.86156, 'Fee': '-', 'Transaction hash': '10d22bb4d1e5c46f77cf41ffb99415141c7405cee845e22659bd4d4711c13c0c', 'Main account balance': 0.95756, 'Currency': 'ETH', 'file_name': 'transfersFile-0'}}, 'target':\n",
      "generated: \n",
      " {'file_name': 'transfersFile-0', 'source': {'Email': 'nils.burde@gmail.com', 'Date (UTC)': '2018-01-20 14:56:57', 'Transaction ID': '99e5d1d1-1df7-43dd-9a0c-334db9f9b3fc', 'Type': 'Deposit', 'Amount': 0.86156, 'Fee': '-', 'Transaction hash': '10d22bb4d1e5c46f77cf41ffb99415141c7405cee845e22659bd4d4711c13c0c', 'Main account balance': 0.95756, 'Currency': 'ETH', 'file_name': 'transfersFile-0'}}, 'target': {'Date': '01/20/2018 14:56:57', 'inBuyAmount': 0.86156, 'inBuyAsset': 'ETH', 'outSellAmount': nan, 'outSellAsset': nan, 'transactionType_raw': 'Deposit', 'transactionType': 'deposit', 'comments': nan, 'transactionId': '99e5d1d1-1df7-43dd-9a0c-334db9f9b3fc', 'operationId': nan, 'feeAmount': nan, 'feeAsset': nan}}\n",
      "\n",
      "row: \n",
      " {'file_name': 'transfersFile-0', 'source': {'Email': 'nils.burde@gmail.com', 'Date (UTC)': '2018-01-20 14:49:05', 'Transaction ID': '6e84373d-ae78-4a52-85b0-0f4bbce2e557', 'Type': 'Deposit', 'Amount': 0.096, 'Fee': '-', 'Transaction hash': '8805c473a6d20f7828e4d95df4c59ffc730e140c46d463fbef762633571b5185', 'Main account balance': 0.096, 'Currency': 'ETH', 'file_name': 'transfersFile-0'}}, 'target':\n",
      "generated: \n",
      " {'file_name': 'transfersFile-0', 'source': {'Email': 'nils.burde@gmail.com', 'Date (UTC)': '2018-01-20 14:49:05', 'Transaction ID': '6e84373d-ae78-4a52-85b0-0f4bbce2e557', 'Type': 'Deposit', 'Amount': 0.096, 'Fee': '-', 'Transaction hash': '8805c473a6d20f7828e4d95df4c59ffc730e140c46d463fbef762633571b5185', 'Main account balance': 0.096, 'Currency': 'ETH', 'file_name': 'transfersFile-0'}}, 'target': {'Date': '01/20/2018 14:49:05', 'inBuyAmount': 0.096, 'inBuyAsset': 'ETH', 'outSellAmount': nan, 'outSellAsset': nan, 'transactionType_raw': 'Deposit', 'transactionType': 'deposit', 'comments': nan, 'transactionId': '6e84373d-ae78-4a52-85b0-0f4bbce2e557', 'operationId': nan, 'feeAmount': nan, 'feeAsset': nan}}\n",
      "\n",
      "#################\n",
      "tradesFile-0 (2)\n",
      "row: \n",
      " {'file_name': 'tradesFile-0 (2)', 'source': {'Uuid': '5e505b2b-4213-43d6-83ca-812f1a27c481', 'Exchange': 'BTC-LTC', 'Closed (UTC)': '2017-12-05 13:57:52Z', 'Opened (UTC)': '2017-12-05 13:57:52Z', 'Type': 'LIMIT_SELL', 'Time In Force': 'IMMEDIATE_OR_CANCEL', 'Bid/Ask': 0.00864551, 'Quantity': 79.4241529, 'Remaining': 0.0, 'Price': 0.6866623, 'Avg. Price per Share': 0.00864551, 'file_name': 'tradesFile-0 (2)'}}, 'target':\n",
      "generated: \n",
      " {'file_name': 'tradesFile-0 (2)', 'source': {'Uuid': '5e505b2b-4213-43d6-83ca-812f1a27c481', 'Exchange': 'BTC-LTC', 'Closed (UTC)': '2017-12-05 13:57:52Z', 'Opened (UTC)': '2017-12-05 13:57:52Z', 'Type': 'LIMIT_SELL', 'Time In Force': 'IMMEDIATE_OR_CANCEL', 'Bid/Ask': 0.00864551, 'Quantity': 79.4241529, 'Remaining': 0.0, 'Price': 0.6866623, 'Avg. Price per Share': 0.00864551, 'file_name': 'tradesFile-0 (2)'}}, 'target': {'Date': '12/05/2017 13:57:52', 'inBuyAmount': 0.6866623, 'inBuyAsset': 'LTC', 'outSellAmount': 0.00864551, 'outSellAsset': 'BTC', 'transactionType_raw': 'LIMIT_SELL', 'transactionType': 'order', 'comments': nan, 'transactionId': nan, 'operationId': '5e505b2b-4213-43d6-83ca-812f1a27c481', 'feeAmount': nan, 'feeAsset': nan}}\n",
      "\n",
      "row: \n",
      " {'file_name': 'tradesFile-0 (2)', 'source': {'Uuid': 'cdbe50bc-2b3f-4f85-a164-4a01713e7634', 'Exchange': 'ETH-LTC', 'Closed (UTC)': '2017-12-05 13:16:21Z', 'Opened (UTC)': '2017-12-05 13:16:21Z', 'Type': 'LIMIT_BUY', 'Time In Force': 'IMMEDIATE_OR_CANCEL', 'Bid/Ask': 0.22199999, 'Quantity': 79.4241529, 'Remaining': 0.0, 'Price': 17.63216114, 'Avg. Price per Share': 0.22199999, 'file_name': 'tradesFile-0 (2)'}}, 'target':\n",
      "generated: \n",
      " {'file_name': 'tradesFile-0 (2)', 'source': {'Uuid': 'cdbe50bc-2b3f-4f85-a164-4a01713e7634', 'Exchange': 'ETH-LTC', 'Closed (UTC)': '2017-12-05 13:16:21Z', 'Opened (UTC)': '2017-12-05 13:16:21Z', 'Type': 'LIMIT_BUY', 'Time In Force': 'IMMEDIATE_OR_CANCEL', 'Bid/Ask': 0.22199999, 'Quantity': 79.4241529, 'Remaining': 0.0, 'Price': 17.63216114, 'Avg. Price per Share': 0.22199999, 'file_name': 'tradesFile-0 (2)'}}, 'target': {'Date': '12/05/2017 13:16:21', 'inBuyAmount': 0.22199999, 'inBuyAsset': 'LTC', 'outSellAmount': 17.63216114, 'outSellAsset': 'ETH', 'transactionType_raw': 'LIMIT_BUY', 'transactionType': 'order', 'comments': nan, 'transactionId': nan, 'operationId': 'cdbe50bc-2b3f-4f85-a164-4a01713e7634', 'feeAmount': nan, 'feeAsset': nan}}\n",
      "\n",
      "row: \n",
      " {'file_name': 'tradesFile-0 (2)', 'source': {'Uuid': '05bc699a-0f9d-4ee9-b92a-e9ab6cfa31ee', 'Exchange': 'BTC-ETH', 'Closed (UTC)': '2017-12-05 13:08:57Z', 'Opened (UTC)': '2017-12-05 13:08:57Z', 'Type': 'LIMIT_BUY', 'Time In Force': 'IMMEDIATE_OR_CANCEL', 'Bid/Ask': 0.03898, 'Quantity': 17.67635203, 'Remaining': 0.0, 'Price': 0.68896811, 'Avg. Price per Share': 0.03897683, 'file_name': 'tradesFile-0 (2)'}}, 'target':\n",
      "generated: \n",
      " {'file_name': 'tradesFile-0 (2)', 'source': {'Uuid': '05bc699a-0f9d-4ee9-b92a-e9ab6cfa31ee', 'Exchange': 'BTC-ETH', 'Closed (UTC)': '2017-12-05 13:08:57Z', 'Opened (UTC)': '2017-12-05 13:08:57Z', 'Type': 'LIMIT_BUY', 'Time In Force': 'IMMEDIATE_OR_CANCEL', 'Bid/Ask': 0.03898, 'Quantity': 17.67635203, 'Remaining': 0.0, 'Price': 0.68896811, 'Avg. Price per Share': 0.03897683, 'file_name': 'tradesFile-0 (2)'}}, 'target': {'Date': '12/05/2017 13:08:57', 'inBuyAmount': 0.03898, 'inBuyAsset': 'BTC', 'outSellAmount': 0.68896811024064, 'outSellAsset': 'ETH', 'transactionType_raw': 'LIMIT_BUY', 'transactionType': 'order', 'comments': nan, 'transactionId': nan, 'operationId': '05bc699a-0f9d-4ee9-b92a-e9ab6cfa31ee', 'feeAmount': nan, 'feeAsset': nan}}\n",
      "\n",
      "row: \n",
      " {'file_name': 'tradesFile-0 (2)', 'source': {'Uuid': '6c81c2e7-588b-42ee-99c3-f8d8aff42b95', 'Exchange': 'BTC-PTOY', 'Closed (UTC)': '2017-12-05 13:06:24Z', 'Opened (UTC)': '2017-12-05 13:06:24Z', 'Type': 'LIMIT_SELL', 'Time In Force': 'IMMEDIATE_OR_CANCEL', 'Bid/Ask': 2.314e-05, 'Quantity': 368.80073947, 'Remaining': 0.0, 'Price': 0.00853404, 'Avg. Price per Share': 2.314e-05, 'file_name': 'tradesFile-0 (2)'}}, 'target':\n",
      "generated: \n",
      " {'file_name': 'tradesFile-0 (2)', 'source': {'Uuid': '6c81c2e7-588b-42ee-99c3-f8d8aff42b95', 'Exchange': 'BTC-PTOY', 'Closed (UTC)': '2017-12-05 13:06:24Z', 'Opened (UTC)': '2017-12-05 13:06:24Z', 'Type': 'LIMIT_SELL', 'Time In Force': 'IMMEDIATE_OR_CANCEL', 'Bid/Ask': 2.314e-05, 'Quantity': 368.80073947, 'Remaining': 0.0, 'Price': 0.00853404, 'Avg. Price per Share': 2.314e-05, 'file_name': 'tradesFile-0 (2)'}}, 'target': {'Date': '12/05/2017 13:06:24', 'inBuyAmount': 0.002955093536768, 'inBuyAsset': 'BTC', 'outSellAmount': 2.314e-05, 'outSellAsset': 'PTOY', 'transactionType_raw': 'LIMIT_SELL', 'transactionType': 'order', 'comments': nan, 'transactionId': nan, 'operationId': '6c81c2e7-588b-42ee-99c3-f8d8aff42b95', 'feeAmount': nan, 'feeAsset': nan}}\n",
      "\n",
      "row: \n",
      " {'file_name': 'tradesFile-0 (2)', 'source': {'Uuid': 'e1438db9-4c72-49d0-a748-4d3d317fe8c5', 'Exchange': 'BTC-TRIG', 'Closed (UTC)': '2017-12-05 13:05:54Z', 'Opened (UTC)': '2017-12-05 13:05:54Z', 'Type': 'LIMIT_SELL', 'Time In Force': 'IMMEDIATE_OR_CANCEL', 'Bid/Ask': 8.58e-05, 'Quantity': 5394.08177462, 'Remaining': 0.0, 'Price': 0.46321281, 'Avg. Price per Share': 8.58742654179e-05, 'file_name': 'tradesFile-0 (2)'}}, 'target':\n",
      "generated: \n",
      " {'file_name': 'tradesFile-0 (2)', 'source': {'Uuid': 'e1438db9-4c72-49d0-a748-4d3d317fe8c5', 'Exchange': 'BTC-TRIG', 'Closed (UTC)': '2017-12-05 13:05:54Z', 'Opened (UTC)': '2017-12-05 13:05:54Z', 'Type': 'LIMIT_SELL', 'Time In Force': 'IMMEDIATE_OR_CANCEL', 'Bid/Ask': 8.58e-05, 'Quantity': 5394.08177462, 'Remaining': 0.0, 'Price': 0.46321281, 'Avg. Price per Share': 8.58742654179e-05, 'file_name': 'tradesFile-0 (2)'}}, 'target': {'Date': '12/05/2017 13:05:54', 'inBuyAmount': 0.46321281, 'inBuyAsset': 'TRIG', 'outSellAmount': 5394.08177462, 'outSellAsset': 'BTC', 'transactionType_raw': 'LIMIT_SELL', 'transactionType': 'order', 'comments': nan, 'transactionId': nan, 'operationId': 'e1438db9-4c72-49d0-a748-4d3d317fe8c5', 'feeAmount': nan, 'feeAsset': nan}}\n",
      "\n",
      "row: \n",
      " {'file_name': 'tradesFile-0 (2)', 'source': {'Uuid': 'd5177622-e52b-4082-825a-eb07f75fe980', 'Exchange': 'BTC-TRIG', 'Closed (UTC)': '2017-12-05 13:05:48Z', 'Opened (UTC)': '2017-12-05 13:05:47Z', 'Type': 'LIMIT_SELL', 'Time In Force': 'IMMEDIATE_OR_CANCEL', 'Bid/Ask': 8.6e-05, 'Quantity': 2566.69069884, 'Remaining': 0.0, 'Price': 0.22073539, 'Avg. Price per Share': 8.59999960648e-05, 'file_name': 'tradesFile-0 (2)'}}, 'target':\n"
     ]
    },
    {
     "ename": "KeyboardInterrupt",
     "evalue": "",
     "output_type": "error",
     "traceback": [
      "\u001b[0;31m---------------------------------------------------------------------------\u001b[0m",
      "\u001b[0;31mKeyboardInterrupt\u001b[0m                         Traceback (most recent call last)",
      "Cell \u001b[0;32mIn[3], line 25\u001b[0m\n\u001b[1;32m     22\u001b[0m input_ids \u001b[38;5;241m=\u001b[39m batch\u001b[38;5;241m.\u001b[39mto(\u001b[38;5;124m'\u001b[39m\u001b[38;5;124mcuda\u001b[39m\u001b[38;5;124m'\u001b[39m)\n\u001b[1;32m     24\u001b[0m \u001b[38;5;28;01mwith\u001b[39;00m torch\u001b[38;5;241m.\u001b[39mcuda\u001b[38;5;241m.\u001b[39mamp\u001b[38;5;241m.\u001b[39mautocast():\n\u001b[0;32m---> 25\u001b[0m     output_tokens \u001b[38;5;241m=\u001b[39m \u001b[43mmodel\u001b[49m\u001b[38;5;241;43m.\u001b[39;49m\u001b[43mgenerate\u001b[49m\u001b[43m(\u001b[49m\u001b[38;5;241;43m*\u001b[39;49m\u001b[38;5;241;43m*\u001b[39;49m\u001b[43minput_ids\u001b[49m\u001b[43m,\u001b[49m\u001b[43m \u001b[49m\u001b[43mmax_new_tokens\u001b[49m\u001b[38;5;241;43m=\u001b[39;49m\u001b[38;5;241;43m250\u001b[39;49m\u001b[43m,\u001b[49m\u001b[43m \u001b[49m\u001b[43mnum_beams\u001b[49m\u001b[38;5;241;43m=\u001b[39;49m\u001b[38;5;241;43m1\u001b[39;49m\u001b[43m)\u001b[49m\u001b[38;5;66;03m#, eos_token_id=stop_token_id)\u001b[39;00m\n\u001b[1;32m     27\u001b[0m result \u001b[38;5;241m=\u001b[39m tokenizer\u001b[38;5;241m.\u001b[39mdecode(output_tokens[\u001b[38;5;241m0\u001b[39m], skip_special_tokens\u001b[38;5;241m=\u001b[39m\u001b[38;5;28;01mTrue\u001b[39;00m)\u001b[38;5;241m.\u001b[39msplit(\u001b[38;5;124m'\u001b[39m\u001b[38;5;130;01m\\n\u001b[39;00m\u001b[38;5;124m'\u001b[39m)[\u001b[38;5;241m0\u001b[39m]\n\u001b[1;32m     29\u001b[0m \u001b[38;5;28mprint\u001b[39m(\u001b[38;5;124m'\u001b[39m\u001b[38;5;124mgenerated: \u001b[39m\u001b[38;5;130;01m\\n\u001b[39;00m\u001b[38;5;124m'\u001b[39m, result)\n",
      "File \u001b[0;32m~/miniconda3/envs/env/lib/python3.10/site-packages/torch/utils/_contextlib.py:115\u001b[0m, in \u001b[0;36mcontext_decorator.<locals>.decorate_context\u001b[0;34m(*args, **kwargs)\u001b[0m\n\u001b[1;32m    112\u001b[0m \u001b[38;5;129m@functools\u001b[39m\u001b[38;5;241m.\u001b[39mwraps(func)\n\u001b[1;32m    113\u001b[0m \u001b[38;5;28;01mdef\u001b[39;00m \u001b[38;5;21mdecorate_context\u001b[39m(\u001b[38;5;241m*\u001b[39margs, \u001b[38;5;241m*\u001b[39m\u001b[38;5;241m*\u001b[39mkwargs):\n\u001b[1;32m    114\u001b[0m     \u001b[38;5;28;01mwith\u001b[39;00m ctx_factory():\n\u001b[0;32m--> 115\u001b[0m         \u001b[38;5;28;01mreturn\u001b[39;00m \u001b[43mfunc\u001b[49m\u001b[43m(\u001b[49m\u001b[38;5;241;43m*\u001b[39;49m\u001b[43margs\u001b[49m\u001b[43m,\u001b[49m\u001b[43m \u001b[49m\u001b[38;5;241;43m*\u001b[39;49m\u001b[38;5;241;43m*\u001b[39;49m\u001b[43mkwargs\u001b[49m\u001b[43m)\u001b[49m\n",
      "File \u001b[0;32m~/miniconda3/envs/env/lib/python3.10/site-packages/transformers/generation/utils.py:1914\u001b[0m, in \u001b[0;36mGenerationMixin.generate\u001b[0;34m(self, inputs, generation_config, logits_processor, stopping_criteria, prefix_allowed_tokens_fn, synced_gpus, assistant_model, streamer, negative_prompt_ids, negative_prompt_attention_mask, **kwargs)\u001b[0m\n\u001b[1;32m   1906\u001b[0m     input_ids, model_kwargs \u001b[38;5;241m=\u001b[39m \u001b[38;5;28mself\u001b[39m\u001b[38;5;241m.\u001b[39m_expand_inputs_for_generation(\n\u001b[1;32m   1907\u001b[0m         input_ids\u001b[38;5;241m=\u001b[39minput_ids,\n\u001b[1;32m   1908\u001b[0m         expand_size\u001b[38;5;241m=\u001b[39mgeneration_config\u001b[38;5;241m.\u001b[39mnum_return_sequences,\n\u001b[1;32m   1909\u001b[0m         is_encoder_decoder\u001b[38;5;241m=\u001b[39m\u001b[38;5;28mself\u001b[39m\u001b[38;5;241m.\u001b[39mconfig\u001b[38;5;241m.\u001b[39mis_encoder_decoder,\n\u001b[1;32m   1910\u001b[0m         \u001b[38;5;241m*\u001b[39m\u001b[38;5;241m*\u001b[39mmodel_kwargs,\n\u001b[1;32m   1911\u001b[0m     )\n\u001b[1;32m   1913\u001b[0m     \u001b[38;5;66;03m# 13. run sample (it degenerates to greedy search when `generation_config.do_sample=False`)\u001b[39;00m\n\u001b[0;32m-> 1914\u001b[0m     result \u001b[38;5;241m=\u001b[39m \u001b[38;5;28;43mself\u001b[39;49m\u001b[38;5;241;43m.\u001b[39;49m\u001b[43m_sample\u001b[49m\u001b[43m(\u001b[49m\n\u001b[1;32m   1915\u001b[0m \u001b[43m        \u001b[49m\u001b[43minput_ids\u001b[49m\u001b[43m,\u001b[49m\n\u001b[1;32m   1916\u001b[0m \u001b[43m        \u001b[49m\u001b[43mlogits_processor\u001b[49m\u001b[38;5;241;43m=\u001b[39;49m\u001b[43mprepared_logits_processor\u001b[49m\u001b[43m,\u001b[49m\n\u001b[1;32m   1917\u001b[0m \u001b[43m        \u001b[49m\u001b[43mlogits_warper\u001b[49m\u001b[38;5;241;43m=\u001b[39;49m\u001b[43mprepared_logits_warper\u001b[49m\u001b[43m,\u001b[49m\n\u001b[1;32m   1918\u001b[0m \u001b[43m        \u001b[49m\u001b[43mstopping_criteria\u001b[49m\u001b[38;5;241;43m=\u001b[39;49m\u001b[43mprepared_stopping_criteria\u001b[49m\u001b[43m,\u001b[49m\n\u001b[1;32m   1919\u001b[0m \u001b[43m        \u001b[49m\u001b[43mgeneration_config\u001b[49m\u001b[38;5;241;43m=\u001b[39;49m\u001b[43mgeneration_config\u001b[49m\u001b[43m,\u001b[49m\n\u001b[1;32m   1920\u001b[0m \u001b[43m        \u001b[49m\u001b[43msynced_gpus\u001b[49m\u001b[38;5;241;43m=\u001b[39;49m\u001b[43msynced_gpus\u001b[49m\u001b[43m,\u001b[49m\n\u001b[1;32m   1921\u001b[0m \u001b[43m        \u001b[49m\u001b[43mstreamer\u001b[49m\u001b[38;5;241;43m=\u001b[39;49m\u001b[43mstreamer\u001b[49m\u001b[43m,\u001b[49m\n\u001b[1;32m   1922\u001b[0m \u001b[43m        \u001b[49m\u001b[38;5;241;43m*\u001b[39;49m\u001b[38;5;241;43m*\u001b[39;49m\u001b[43mmodel_kwargs\u001b[49m\u001b[43m,\u001b[49m\n\u001b[1;32m   1923\u001b[0m \u001b[43m    \u001b[49m\u001b[43m)\u001b[49m\n\u001b[1;32m   1925\u001b[0m \u001b[38;5;28;01melif\u001b[39;00m generation_mode \u001b[38;5;129;01min\u001b[39;00m (GenerationMode\u001b[38;5;241m.\u001b[39mBEAM_SAMPLE, GenerationMode\u001b[38;5;241m.\u001b[39mBEAM_SEARCH):\n\u001b[1;32m   1926\u001b[0m     \u001b[38;5;66;03m# 11. prepare logits warper\u001b[39;00m\n\u001b[1;32m   1927\u001b[0m     prepared_logits_warper \u001b[38;5;241m=\u001b[39m (\n\u001b[1;32m   1928\u001b[0m         \u001b[38;5;28mself\u001b[39m\u001b[38;5;241m.\u001b[39m_get_logits_warper(generation_config, device\u001b[38;5;241m=\u001b[39minput_ids\u001b[38;5;241m.\u001b[39mdevice)\n\u001b[1;32m   1929\u001b[0m         \u001b[38;5;28;01mif\u001b[39;00m generation_config\u001b[38;5;241m.\u001b[39mdo_sample\n\u001b[1;32m   1930\u001b[0m         \u001b[38;5;28;01melse\u001b[39;00m \u001b[38;5;28;01mNone\u001b[39;00m\n\u001b[1;32m   1931\u001b[0m     )\n",
      "File \u001b[0;32m~/miniconda3/envs/env/lib/python3.10/site-packages/transformers/generation/utils.py:2651\u001b[0m, in \u001b[0;36mGenerationMixin._sample\u001b[0;34m(self, input_ids, logits_processor, stopping_criteria, generation_config, synced_gpus, streamer, logits_warper, **model_kwargs)\u001b[0m\n\u001b[1;32m   2648\u001b[0m model_inputs \u001b[38;5;241m=\u001b[39m \u001b[38;5;28mself\u001b[39m\u001b[38;5;241m.\u001b[39mprepare_inputs_for_generation(input_ids, \u001b[38;5;241m*\u001b[39m\u001b[38;5;241m*\u001b[39mmodel_kwargs)\n\u001b[1;32m   2650\u001b[0m \u001b[38;5;66;03m# forward pass to get next token\u001b[39;00m\n\u001b[0;32m-> 2651\u001b[0m outputs \u001b[38;5;241m=\u001b[39m \u001b[38;5;28;43mself\u001b[39;49m\u001b[43m(\u001b[49m\n\u001b[1;32m   2652\u001b[0m \u001b[43m    \u001b[49m\u001b[38;5;241;43m*\u001b[39;49m\u001b[38;5;241;43m*\u001b[39;49m\u001b[43mmodel_inputs\u001b[49m\u001b[43m,\u001b[49m\n\u001b[1;32m   2653\u001b[0m \u001b[43m    \u001b[49m\u001b[43mreturn_dict\u001b[49m\u001b[38;5;241;43m=\u001b[39;49m\u001b[38;5;28;43;01mTrue\u001b[39;49;00m\u001b[43m,\u001b[49m\n\u001b[1;32m   2654\u001b[0m \u001b[43m    \u001b[49m\u001b[43moutput_attentions\u001b[49m\u001b[38;5;241;43m=\u001b[39;49m\u001b[43moutput_attentions\u001b[49m\u001b[43m,\u001b[49m\n\u001b[1;32m   2655\u001b[0m \u001b[43m    \u001b[49m\u001b[43moutput_hidden_states\u001b[49m\u001b[38;5;241;43m=\u001b[39;49m\u001b[43moutput_hidden_states\u001b[49m\u001b[43m,\u001b[49m\n\u001b[1;32m   2656\u001b[0m \u001b[43m\u001b[49m\u001b[43m)\u001b[49m\n\u001b[1;32m   2658\u001b[0m \u001b[38;5;28;01mif\u001b[39;00m synced_gpus \u001b[38;5;129;01mand\u001b[39;00m this_peer_finished:\n\u001b[1;32m   2659\u001b[0m     \u001b[38;5;28;01mcontinue\u001b[39;00m  \u001b[38;5;66;03m# don't waste resources running the code we don't need\u001b[39;00m\n",
      "File \u001b[0;32m~/miniconda3/envs/env/lib/python3.10/site-packages/torch/nn/modules/module.py:1532\u001b[0m, in \u001b[0;36mModule._wrapped_call_impl\u001b[0;34m(self, *args, **kwargs)\u001b[0m\n\u001b[1;32m   1530\u001b[0m     \u001b[38;5;28;01mreturn\u001b[39;00m \u001b[38;5;28mself\u001b[39m\u001b[38;5;241m.\u001b[39m_compiled_call_impl(\u001b[38;5;241m*\u001b[39margs, \u001b[38;5;241m*\u001b[39m\u001b[38;5;241m*\u001b[39mkwargs)  \u001b[38;5;66;03m# type: ignore[misc]\u001b[39;00m\n\u001b[1;32m   1531\u001b[0m \u001b[38;5;28;01melse\u001b[39;00m:\n\u001b[0;32m-> 1532\u001b[0m     \u001b[38;5;28;01mreturn\u001b[39;00m \u001b[38;5;28;43mself\u001b[39;49m\u001b[38;5;241;43m.\u001b[39;49m\u001b[43m_call_impl\u001b[49m\u001b[43m(\u001b[49m\u001b[38;5;241;43m*\u001b[39;49m\u001b[43margs\u001b[49m\u001b[43m,\u001b[49m\u001b[43m \u001b[49m\u001b[38;5;241;43m*\u001b[39;49m\u001b[38;5;241;43m*\u001b[39;49m\u001b[43mkwargs\u001b[49m\u001b[43m)\u001b[49m\n",
      "File \u001b[0;32m~/miniconda3/envs/env/lib/python3.10/site-packages/torch/nn/modules/module.py:1541\u001b[0m, in \u001b[0;36mModule._call_impl\u001b[0;34m(self, *args, **kwargs)\u001b[0m\n\u001b[1;32m   1536\u001b[0m \u001b[38;5;66;03m# If we don't have any hooks, we want to skip the rest of the logic in\u001b[39;00m\n\u001b[1;32m   1537\u001b[0m \u001b[38;5;66;03m# this function, and just call forward.\u001b[39;00m\n\u001b[1;32m   1538\u001b[0m \u001b[38;5;28;01mif\u001b[39;00m \u001b[38;5;129;01mnot\u001b[39;00m (\u001b[38;5;28mself\u001b[39m\u001b[38;5;241m.\u001b[39m_backward_hooks \u001b[38;5;129;01mor\u001b[39;00m \u001b[38;5;28mself\u001b[39m\u001b[38;5;241m.\u001b[39m_backward_pre_hooks \u001b[38;5;129;01mor\u001b[39;00m \u001b[38;5;28mself\u001b[39m\u001b[38;5;241m.\u001b[39m_forward_hooks \u001b[38;5;129;01mor\u001b[39;00m \u001b[38;5;28mself\u001b[39m\u001b[38;5;241m.\u001b[39m_forward_pre_hooks\n\u001b[1;32m   1539\u001b[0m         \u001b[38;5;129;01mor\u001b[39;00m _global_backward_pre_hooks \u001b[38;5;129;01mor\u001b[39;00m _global_backward_hooks\n\u001b[1;32m   1540\u001b[0m         \u001b[38;5;129;01mor\u001b[39;00m _global_forward_hooks \u001b[38;5;129;01mor\u001b[39;00m _global_forward_pre_hooks):\n\u001b[0;32m-> 1541\u001b[0m     \u001b[38;5;28;01mreturn\u001b[39;00m \u001b[43mforward_call\u001b[49m\u001b[43m(\u001b[49m\u001b[38;5;241;43m*\u001b[39;49m\u001b[43margs\u001b[49m\u001b[43m,\u001b[49m\u001b[43m \u001b[49m\u001b[38;5;241;43m*\u001b[39;49m\u001b[38;5;241;43m*\u001b[39;49m\u001b[43mkwargs\u001b[49m\u001b[43m)\u001b[49m\n\u001b[1;32m   1543\u001b[0m \u001b[38;5;28;01mtry\u001b[39;00m:\n\u001b[1;32m   1544\u001b[0m     result \u001b[38;5;241m=\u001b[39m \u001b[38;5;28;01mNone\u001b[39;00m\n",
      "File \u001b[0;32m~/miniconda3/envs/env/lib/python3.10/site-packages/accelerate/hooks.py:166\u001b[0m, in \u001b[0;36madd_hook_to_module.<locals>.new_forward\u001b[0;34m(module, *args, **kwargs)\u001b[0m\n\u001b[1;32m    164\u001b[0m         output \u001b[38;5;241m=\u001b[39m module\u001b[38;5;241m.\u001b[39m_old_forward(\u001b[38;5;241m*\u001b[39margs, \u001b[38;5;241m*\u001b[39m\u001b[38;5;241m*\u001b[39mkwargs)\n\u001b[1;32m    165\u001b[0m \u001b[38;5;28;01melse\u001b[39;00m:\n\u001b[0;32m--> 166\u001b[0m     output \u001b[38;5;241m=\u001b[39m \u001b[43mmodule\u001b[49m\u001b[38;5;241;43m.\u001b[39;49m\u001b[43m_old_forward\u001b[49m\u001b[43m(\u001b[49m\u001b[38;5;241;43m*\u001b[39;49m\u001b[43margs\u001b[49m\u001b[43m,\u001b[49m\u001b[43m \u001b[49m\u001b[38;5;241;43m*\u001b[39;49m\u001b[38;5;241;43m*\u001b[39;49m\u001b[43mkwargs\u001b[49m\u001b[43m)\u001b[49m\n\u001b[1;32m    167\u001b[0m \u001b[38;5;28;01mreturn\u001b[39;00m module\u001b[38;5;241m.\u001b[39m_hf_hook\u001b[38;5;241m.\u001b[39mpost_forward(module, output)\n",
      "File \u001b[0;32m~/miniconda3/envs/env/lib/python3.10/site-packages/transformers/models/llama/modeling_llama.py:1174\u001b[0m, in \u001b[0;36mLlamaForCausalLM.forward\u001b[0;34m(self, input_ids, attention_mask, position_ids, past_key_values, inputs_embeds, labels, use_cache, output_attentions, output_hidden_states, return_dict, cache_position)\u001b[0m\n\u001b[1;32m   1171\u001b[0m return_dict \u001b[38;5;241m=\u001b[39m return_dict \u001b[38;5;28;01mif\u001b[39;00m return_dict \u001b[38;5;129;01mis\u001b[39;00m \u001b[38;5;129;01mnot\u001b[39;00m \u001b[38;5;28;01mNone\u001b[39;00m \u001b[38;5;28;01melse\u001b[39;00m \u001b[38;5;28mself\u001b[39m\u001b[38;5;241m.\u001b[39mconfig\u001b[38;5;241m.\u001b[39muse_return_dict\n\u001b[1;32m   1173\u001b[0m \u001b[38;5;66;03m# decoder outputs consists of (dec_features, layer_state, dec_hidden, dec_attn)\u001b[39;00m\n\u001b[0;32m-> 1174\u001b[0m outputs \u001b[38;5;241m=\u001b[39m \u001b[38;5;28;43mself\u001b[39;49m\u001b[38;5;241;43m.\u001b[39;49m\u001b[43mmodel\u001b[49m\u001b[43m(\u001b[49m\n\u001b[1;32m   1175\u001b[0m \u001b[43m    \u001b[49m\u001b[43minput_ids\u001b[49m\u001b[38;5;241;43m=\u001b[39;49m\u001b[43minput_ids\u001b[49m\u001b[43m,\u001b[49m\n\u001b[1;32m   1176\u001b[0m \u001b[43m    \u001b[49m\u001b[43mattention_mask\u001b[49m\u001b[38;5;241;43m=\u001b[39;49m\u001b[43mattention_mask\u001b[49m\u001b[43m,\u001b[49m\n\u001b[1;32m   1177\u001b[0m \u001b[43m    \u001b[49m\u001b[43mposition_ids\u001b[49m\u001b[38;5;241;43m=\u001b[39;49m\u001b[43mposition_ids\u001b[49m\u001b[43m,\u001b[49m\n\u001b[1;32m   1178\u001b[0m \u001b[43m    \u001b[49m\u001b[43mpast_key_values\u001b[49m\u001b[38;5;241;43m=\u001b[39;49m\u001b[43mpast_key_values\u001b[49m\u001b[43m,\u001b[49m\n\u001b[1;32m   1179\u001b[0m \u001b[43m    \u001b[49m\u001b[43minputs_embeds\u001b[49m\u001b[38;5;241;43m=\u001b[39;49m\u001b[43minputs_embeds\u001b[49m\u001b[43m,\u001b[49m\n\u001b[1;32m   1180\u001b[0m \u001b[43m    \u001b[49m\u001b[43muse_cache\u001b[49m\u001b[38;5;241;43m=\u001b[39;49m\u001b[43muse_cache\u001b[49m\u001b[43m,\u001b[49m\n\u001b[1;32m   1181\u001b[0m \u001b[43m    \u001b[49m\u001b[43moutput_attentions\u001b[49m\u001b[38;5;241;43m=\u001b[39;49m\u001b[43moutput_attentions\u001b[49m\u001b[43m,\u001b[49m\n\u001b[1;32m   1182\u001b[0m \u001b[43m    \u001b[49m\u001b[43moutput_hidden_states\u001b[49m\u001b[38;5;241;43m=\u001b[39;49m\u001b[43moutput_hidden_states\u001b[49m\u001b[43m,\u001b[49m\n\u001b[1;32m   1183\u001b[0m \u001b[43m    \u001b[49m\u001b[43mreturn_dict\u001b[49m\u001b[38;5;241;43m=\u001b[39;49m\u001b[43mreturn_dict\u001b[49m\u001b[43m,\u001b[49m\n\u001b[1;32m   1184\u001b[0m \u001b[43m    \u001b[49m\u001b[43mcache_position\u001b[49m\u001b[38;5;241;43m=\u001b[39;49m\u001b[43mcache_position\u001b[49m\u001b[43m,\u001b[49m\n\u001b[1;32m   1185\u001b[0m \u001b[43m\u001b[49m\u001b[43m)\u001b[49m\n\u001b[1;32m   1187\u001b[0m hidden_states \u001b[38;5;241m=\u001b[39m outputs[\u001b[38;5;241m0\u001b[39m]\n\u001b[1;32m   1188\u001b[0m \u001b[38;5;28;01mif\u001b[39;00m \u001b[38;5;28mself\u001b[39m\u001b[38;5;241m.\u001b[39mconfig\u001b[38;5;241m.\u001b[39mpretraining_tp \u001b[38;5;241m>\u001b[39m \u001b[38;5;241m1\u001b[39m:\n",
      "File \u001b[0;32m~/miniconda3/envs/env/lib/python3.10/site-packages/torch/nn/modules/module.py:1532\u001b[0m, in \u001b[0;36mModule._wrapped_call_impl\u001b[0;34m(self, *args, **kwargs)\u001b[0m\n\u001b[1;32m   1530\u001b[0m     \u001b[38;5;28;01mreturn\u001b[39;00m \u001b[38;5;28mself\u001b[39m\u001b[38;5;241m.\u001b[39m_compiled_call_impl(\u001b[38;5;241m*\u001b[39margs, \u001b[38;5;241m*\u001b[39m\u001b[38;5;241m*\u001b[39mkwargs)  \u001b[38;5;66;03m# type: ignore[misc]\u001b[39;00m\n\u001b[1;32m   1531\u001b[0m \u001b[38;5;28;01melse\u001b[39;00m:\n\u001b[0;32m-> 1532\u001b[0m     \u001b[38;5;28;01mreturn\u001b[39;00m \u001b[38;5;28;43mself\u001b[39;49m\u001b[38;5;241;43m.\u001b[39;49m\u001b[43m_call_impl\u001b[49m\u001b[43m(\u001b[49m\u001b[38;5;241;43m*\u001b[39;49m\u001b[43margs\u001b[49m\u001b[43m,\u001b[49m\u001b[43m \u001b[49m\u001b[38;5;241;43m*\u001b[39;49m\u001b[38;5;241;43m*\u001b[39;49m\u001b[43mkwargs\u001b[49m\u001b[43m)\u001b[49m\n",
      "File \u001b[0;32m~/miniconda3/envs/env/lib/python3.10/site-packages/torch/nn/modules/module.py:1541\u001b[0m, in \u001b[0;36mModule._call_impl\u001b[0;34m(self, *args, **kwargs)\u001b[0m\n\u001b[1;32m   1536\u001b[0m \u001b[38;5;66;03m# If we don't have any hooks, we want to skip the rest of the logic in\u001b[39;00m\n\u001b[1;32m   1537\u001b[0m \u001b[38;5;66;03m# this function, and just call forward.\u001b[39;00m\n\u001b[1;32m   1538\u001b[0m \u001b[38;5;28;01mif\u001b[39;00m \u001b[38;5;129;01mnot\u001b[39;00m (\u001b[38;5;28mself\u001b[39m\u001b[38;5;241m.\u001b[39m_backward_hooks \u001b[38;5;129;01mor\u001b[39;00m \u001b[38;5;28mself\u001b[39m\u001b[38;5;241m.\u001b[39m_backward_pre_hooks \u001b[38;5;129;01mor\u001b[39;00m \u001b[38;5;28mself\u001b[39m\u001b[38;5;241m.\u001b[39m_forward_hooks \u001b[38;5;129;01mor\u001b[39;00m \u001b[38;5;28mself\u001b[39m\u001b[38;5;241m.\u001b[39m_forward_pre_hooks\n\u001b[1;32m   1539\u001b[0m         \u001b[38;5;129;01mor\u001b[39;00m _global_backward_pre_hooks \u001b[38;5;129;01mor\u001b[39;00m _global_backward_hooks\n\u001b[1;32m   1540\u001b[0m         \u001b[38;5;129;01mor\u001b[39;00m _global_forward_hooks \u001b[38;5;129;01mor\u001b[39;00m _global_forward_pre_hooks):\n\u001b[0;32m-> 1541\u001b[0m     \u001b[38;5;28;01mreturn\u001b[39;00m \u001b[43mforward_call\u001b[49m\u001b[43m(\u001b[49m\u001b[38;5;241;43m*\u001b[39;49m\u001b[43margs\u001b[49m\u001b[43m,\u001b[49m\u001b[43m \u001b[49m\u001b[38;5;241;43m*\u001b[39;49m\u001b[38;5;241;43m*\u001b[39;49m\u001b[43mkwargs\u001b[49m\u001b[43m)\u001b[49m\n\u001b[1;32m   1543\u001b[0m \u001b[38;5;28;01mtry\u001b[39;00m:\n\u001b[1;32m   1544\u001b[0m     result \u001b[38;5;241m=\u001b[39m \u001b[38;5;28;01mNone\u001b[39;00m\n",
      "File \u001b[0;32m~/miniconda3/envs/env/lib/python3.10/site-packages/accelerate/hooks.py:166\u001b[0m, in \u001b[0;36madd_hook_to_module.<locals>.new_forward\u001b[0;34m(module, *args, **kwargs)\u001b[0m\n\u001b[1;32m    164\u001b[0m         output \u001b[38;5;241m=\u001b[39m module\u001b[38;5;241m.\u001b[39m_old_forward(\u001b[38;5;241m*\u001b[39margs, \u001b[38;5;241m*\u001b[39m\u001b[38;5;241m*\u001b[39mkwargs)\n\u001b[1;32m    165\u001b[0m \u001b[38;5;28;01melse\u001b[39;00m:\n\u001b[0;32m--> 166\u001b[0m     output \u001b[38;5;241m=\u001b[39m \u001b[43mmodule\u001b[49m\u001b[38;5;241;43m.\u001b[39;49m\u001b[43m_old_forward\u001b[49m\u001b[43m(\u001b[49m\u001b[38;5;241;43m*\u001b[39;49m\u001b[43margs\u001b[49m\u001b[43m,\u001b[49m\u001b[43m \u001b[49m\u001b[38;5;241;43m*\u001b[39;49m\u001b[38;5;241;43m*\u001b[39;49m\u001b[43mkwargs\u001b[49m\u001b[43m)\u001b[49m\n\u001b[1;32m    167\u001b[0m \u001b[38;5;28;01mreturn\u001b[39;00m module\u001b[38;5;241m.\u001b[39m_hf_hook\u001b[38;5;241m.\u001b[39mpost_forward(module, output)\n",
      "File \u001b[0;32m~/miniconda3/envs/env/lib/python3.10/site-packages/transformers/models/llama/modeling_llama.py:978\u001b[0m, in \u001b[0;36mLlamaModel.forward\u001b[0;34m(self, input_ids, attention_mask, position_ids, past_key_values, inputs_embeds, use_cache, output_attentions, output_hidden_states, return_dict, cache_position)\u001b[0m\n\u001b[1;32m    967\u001b[0m     layer_outputs \u001b[38;5;241m=\u001b[39m \u001b[38;5;28mself\u001b[39m\u001b[38;5;241m.\u001b[39m_gradient_checkpointing_func(\n\u001b[1;32m    968\u001b[0m         decoder_layer\u001b[38;5;241m.\u001b[39m\u001b[38;5;21m__call__\u001b[39m,\n\u001b[1;32m    969\u001b[0m         hidden_states,\n\u001b[0;32m   (...)\u001b[0m\n\u001b[1;32m    975\u001b[0m         cache_position,\n\u001b[1;32m    976\u001b[0m     )\n\u001b[1;32m    977\u001b[0m \u001b[38;5;28;01melse\u001b[39;00m:\n\u001b[0;32m--> 978\u001b[0m     layer_outputs \u001b[38;5;241m=\u001b[39m \u001b[43mdecoder_layer\u001b[49m\u001b[43m(\u001b[49m\n\u001b[1;32m    979\u001b[0m \u001b[43m        \u001b[49m\u001b[43mhidden_states\u001b[49m\u001b[43m,\u001b[49m\n\u001b[1;32m    980\u001b[0m \u001b[43m        \u001b[49m\u001b[43mattention_mask\u001b[49m\u001b[38;5;241;43m=\u001b[39;49m\u001b[43mcausal_mask\u001b[49m\u001b[43m,\u001b[49m\n\u001b[1;32m    981\u001b[0m \u001b[43m        \u001b[49m\u001b[43mposition_ids\u001b[49m\u001b[38;5;241;43m=\u001b[39;49m\u001b[43mposition_ids\u001b[49m\u001b[43m,\u001b[49m\n\u001b[1;32m    982\u001b[0m \u001b[43m        \u001b[49m\u001b[43mpast_key_value\u001b[49m\u001b[38;5;241;43m=\u001b[39;49m\u001b[43mpast_key_values\u001b[49m\u001b[43m,\u001b[49m\n\u001b[1;32m    983\u001b[0m \u001b[43m        \u001b[49m\u001b[43moutput_attentions\u001b[49m\u001b[38;5;241;43m=\u001b[39;49m\u001b[43moutput_attentions\u001b[49m\u001b[43m,\u001b[49m\n\u001b[1;32m    984\u001b[0m \u001b[43m        \u001b[49m\u001b[43muse_cache\u001b[49m\u001b[38;5;241;43m=\u001b[39;49m\u001b[43muse_cache\u001b[49m\u001b[43m,\u001b[49m\n\u001b[1;32m    985\u001b[0m \u001b[43m        \u001b[49m\u001b[43mcache_position\u001b[49m\u001b[38;5;241;43m=\u001b[39;49m\u001b[43mcache_position\u001b[49m\u001b[43m,\u001b[49m\n\u001b[1;32m    986\u001b[0m \u001b[43m    \u001b[49m\u001b[43m)\u001b[49m\n\u001b[1;32m    988\u001b[0m hidden_states \u001b[38;5;241m=\u001b[39m layer_outputs[\u001b[38;5;241m0\u001b[39m]\n\u001b[1;32m    990\u001b[0m \u001b[38;5;28;01mif\u001b[39;00m use_cache:\n",
      "File \u001b[0;32m~/miniconda3/envs/env/lib/python3.10/site-packages/torch/nn/modules/module.py:1532\u001b[0m, in \u001b[0;36mModule._wrapped_call_impl\u001b[0;34m(self, *args, **kwargs)\u001b[0m\n\u001b[1;32m   1530\u001b[0m     \u001b[38;5;28;01mreturn\u001b[39;00m \u001b[38;5;28mself\u001b[39m\u001b[38;5;241m.\u001b[39m_compiled_call_impl(\u001b[38;5;241m*\u001b[39margs, \u001b[38;5;241m*\u001b[39m\u001b[38;5;241m*\u001b[39mkwargs)  \u001b[38;5;66;03m# type: ignore[misc]\u001b[39;00m\n\u001b[1;32m   1531\u001b[0m \u001b[38;5;28;01melse\u001b[39;00m:\n\u001b[0;32m-> 1532\u001b[0m     \u001b[38;5;28;01mreturn\u001b[39;00m \u001b[38;5;28;43mself\u001b[39;49m\u001b[38;5;241;43m.\u001b[39;49m\u001b[43m_call_impl\u001b[49m\u001b[43m(\u001b[49m\u001b[38;5;241;43m*\u001b[39;49m\u001b[43margs\u001b[49m\u001b[43m,\u001b[49m\u001b[43m \u001b[49m\u001b[38;5;241;43m*\u001b[39;49m\u001b[38;5;241;43m*\u001b[39;49m\u001b[43mkwargs\u001b[49m\u001b[43m)\u001b[49m\n",
      "File \u001b[0;32m~/miniconda3/envs/env/lib/python3.10/site-packages/torch/nn/modules/module.py:1541\u001b[0m, in \u001b[0;36mModule._call_impl\u001b[0;34m(self, *args, **kwargs)\u001b[0m\n\u001b[1;32m   1536\u001b[0m \u001b[38;5;66;03m# If we don't have any hooks, we want to skip the rest of the logic in\u001b[39;00m\n\u001b[1;32m   1537\u001b[0m \u001b[38;5;66;03m# this function, and just call forward.\u001b[39;00m\n\u001b[1;32m   1538\u001b[0m \u001b[38;5;28;01mif\u001b[39;00m \u001b[38;5;129;01mnot\u001b[39;00m (\u001b[38;5;28mself\u001b[39m\u001b[38;5;241m.\u001b[39m_backward_hooks \u001b[38;5;129;01mor\u001b[39;00m \u001b[38;5;28mself\u001b[39m\u001b[38;5;241m.\u001b[39m_backward_pre_hooks \u001b[38;5;129;01mor\u001b[39;00m \u001b[38;5;28mself\u001b[39m\u001b[38;5;241m.\u001b[39m_forward_hooks \u001b[38;5;129;01mor\u001b[39;00m \u001b[38;5;28mself\u001b[39m\u001b[38;5;241m.\u001b[39m_forward_pre_hooks\n\u001b[1;32m   1539\u001b[0m         \u001b[38;5;129;01mor\u001b[39;00m _global_backward_pre_hooks \u001b[38;5;129;01mor\u001b[39;00m _global_backward_hooks\n\u001b[1;32m   1540\u001b[0m         \u001b[38;5;129;01mor\u001b[39;00m _global_forward_hooks \u001b[38;5;129;01mor\u001b[39;00m _global_forward_pre_hooks):\n\u001b[0;32m-> 1541\u001b[0m     \u001b[38;5;28;01mreturn\u001b[39;00m \u001b[43mforward_call\u001b[49m\u001b[43m(\u001b[49m\u001b[38;5;241;43m*\u001b[39;49m\u001b[43margs\u001b[49m\u001b[43m,\u001b[49m\u001b[43m \u001b[49m\u001b[38;5;241;43m*\u001b[39;49m\u001b[38;5;241;43m*\u001b[39;49m\u001b[43mkwargs\u001b[49m\u001b[43m)\u001b[49m\n\u001b[1;32m   1543\u001b[0m \u001b[38;5;28;01mtry\u001b[39;00m:\n\u001b[1;32m   1544\u001b[0m     result \u001b[38;5;241m=\u001b[39m \u001b[38;5;28;01mNone\u001b[39;00m\n",
      "File \u001b[0;32m~/miniconda3/envs/env/lib/python3.10/site-packages/accelerate/hooks.py:166\u001b[0m, in \u001b[0;36madd_hook_to_module.<locals>.new_forward\u001b[0;34m(module, *args, **kwargs)\u001b[0m\n\u001b[1;32m    164\u001b[0m         output \u001b[38;5;241m=\u001b[39m module\u001b[38;5;241m.\u001b[39m_old_forward(\u001b[38;5;241m*\u001b[39margs, \u001b[38;5;241m*\u001b[39m\u001b[38;5;241m*\u001b[39mkwargs)\n\u001b[1;32m    165\u001b[0m \u001b[38;5;28;01melse\u001b[39;00m:\n\u001b[0;32m--> 166\u001b[0m     output \u001b[38;5;241m=\u001b[39m \u001b[43mmodule\u001b[49m\u001b[38;5;241;43m.\u001b[39;49m\u001b[43m_old_forward\u001b[49m\u001b[43m(\u001b[49m\u001b[38;5;241;43m*\u001b[39;49m\u001b[43margs\u001b[49m\u001b[43m,\u001b[49m\u001b[43m \u001b[49m\u001b[38;5;241;43m*\u001b[39;49m\u001b[38;5;241;43m*\u001b[39;49m\u001b[43mkwargs\u001b[49m\u001b[43m)\u001b[49m\n\u001b[1;32m    167\u001b[0m \u001b[38;5;28;01mreturn\u001b[39;00m module\u001b[38;5;241m.\u001b[39m_hf_hook\u001b[38;5;241m.\u001b[39mpost_forward(module, output)\n",
      "File \u001b[0;32m~/miniconda3/envs/env/lib/python3.10/site-packages/transformers/models/llama/modeling_llama.py:718\u001b[0m, in \u001b[0;36mLlamaDecoderLayer.forward\u001b[0;34m(self, hidden_states, attention_mask, position_ids, past_key_value, output_attentions, use_cache, cache_position, **kwargs)\u001b[0m\n\u001b[1;32m    715\u001b[0m hidden_states \u001b[38;5;241m=\u001b[39m \u001b[38;5;28mself\u001b[39m\u001b[38;5;241m.\u001b[39minput_layernorm(hidden_states)\n\u001b[1;32m    717\u001b[0m \u001b[38;5;66;03m# Self Attention\u001b[39;00m\n\u001b[0;32m--> 718\u001b[0m hidden_states, self_attn_weights, present_key_value \u001b[38;5;241m=\u001b[39m \u001b[38;5;28;43mself\u001b[39;49m\u001b[38;5;241;43m.\u001b[39;49m\u001b[43mself_attn\u001b[49m\u001b[43m(\u001b[49m\n\u001b[1;32m    719\u001b[0m \u001b[43m    \u001b[49m\u001b[43mhidden_states\u001b[49m\u001b[38;5;241;43m=\u001b[39;49m\u001b[43mhidden_states\u001b[49m\u001b[43m,\u001b[49m\n\u001b[1;32m    720\u001b[0m \u001b[43m    \u001b[49m\u001b[43mattention_mask\u001b[49m\u001b[38;5;241;43m=\u001b[39;49m\u001b[43mattention_mask\u001b[49m\u001b[43m,\u001b[49m\n\u001b[1;32m    721\u001b[0m \u001b[43m    \u001b[49m\u001b[43mposition_ids\u001b[49m\u001b[38;5;241;43m=\u001b[39;49m\u001b[43mposition_ids\u001b[49m\u001b[43m,\u001b[49m\n\u001b[1;32m    722\u001b[0m \u001b[43m    \u001b[49m\u001b[43mpast_key_value\u001b[49m\u001b[38;5;241;43m=\u001b[39;49m\u001b[43mpast_key_value\u001b[49m\u001b[43m,\u001b[49m\n\u001b[1;32m    723\u001b[0m \u001b[43m    \u001b[49m\u001b[43moutput_attentions\u001b[49m\u001b[38;5;241;43m=\u001b[39;49m\u001b[43moutput_attentions\u001b[49m\u001b[43m,\u001b[49m\n\u001b[1;32m    724\u001b[0m \u001b[43m    \u001b[49m\u001b[43muse_cache\u001b[49m\u001b[38;5;241;43m=\u001b[39;49m\u001b[43muse_cache\u001b[49m\u001b[43m,\u001b[49m\n\u001b[1;32m    725\u001b[0m \u001b[43m    \u001b[49m\u001b[43mcache_position\u001b[49m\u001b[38;5;241;43m=\u001b[39;49m\u001b[43mcache_position\u001b[49m\u001b[43m,\u001b[49m\n\u001b[1;32m    726\u001b[0m \u001b[43m\u001b[49m\u001b[43m)\u001b[49m\n\u001b[1;32m    727\u001b[0m hidden_states \u001b[38;5;241m=\u001b[39m residual \u001b[38;5;241m+\u001b[39m hidden_states\n\u001b[1;32m    729\u001b[0m \u001b[38;5;66;03m# Fully Connected\u001b[39;00m\n",
      "File \u001b[0;32m~/miniconda3/envs/env/lib/python3.10/site-packages/torch/nn/modules/module.py:1532\u001b[0m, in \u001b[0;36mModule._wrapped_call_impl\u001b[0;34m(self, *args, **kwargs)\u001b[0m\n\u001b[1;32m   1530\u001b[0m     \u001b[38;5;28;01mreturn\u001b[39;00m \u001b[38;5;28mself\u001b[39m\u001b[38;5;241m.\u001b[39m_compiled_call_impl(\u001b[38;5;241m*\u001b[39margs, \u001b[38;5;241m*\u001b[39m\u001b[38;5;241m*\u001b[39mkwargs)  \u001b[38;5;66;03m# type: ignore[misc]\u001b[39;00m\n\u001b[1;32m   1531\u001b[0m \u001b[38;5;28;01melse\u001b[39;00m:\n\u001b[0;32m-> 1532\u001b[0m     \u001b[38;5;28;01mreturn\u001b[39;00m \u001b[38;5;28;43mself\u001b[39;49m\u001b[38;5;241;43m.\u001b[39;49m\u001b[43m_call_impl\u001b[49m\u001b[43m(\u001b[49m\u001b[38;5;241;43m*\u001b[39;49m\u001b[43margs\u001b[49m\u001b[43m,\u001b[49m\u001b[43m \u001b[49m\u001b[38;5;241;43m*\u001b[39;49m\u001b[38;5;241;43m*\u001b[39;49m\u001b[43mkwargs\u001b[49m\u001b[43m)\u001b[49m\n",
      "File \u001b[0;32m~/miniconda3/envs/env/lib/python3.10/site-packages/torch/nn/modules/module.py:1541\u001b[0m, in \u001b[0;36mModule._call_impl\u001b[0;34m(self, *args, **kwargs)\u001b[0m\n\u001b[1;32m   1536\u001b[0m \u001b[38;5;66;03m# If we don't have any hooks, we want to skip the rest of the logic in\u001b[39;00m\n\u001b[1;32m   1537\u001b[0m \u001b[38;5;66;03m# this function, and just call forward.\u001b[39;00m\n\u001b[1;32m   1538\u001b[0m \u001b[38;5;28;01mif\u001b[39;00m \u001b[38;5;129;01mnot\u001b[39;00m (\u001b[38;5;28mself\u001b[39m\u001b[38;5;241m.\u001b[39m_backward_hooks \u001b[38;5;129;01mor\u001b[39;00m \u001b[38;5;28mself\u001b[39m\u001b[38;5;241m.\u001b[39m_backward_pre_hooks \u001b[38;5;129;01mor\u001b[39;00m \u001b[38;5;28mself\u001b[39m\u001b[38;5;241m.\u001b[39m_forward_hooks \u001b[38;5;129;01mor\u001b[39;00m \u001b[38;5;28mself\u001b[39m\u001b[38;5;241m.\u001b[39m_forward_pre_hooks\n\u001b[1;32m   1539\u001b[0m         \u001b[38;5;129;01mor\u001b[39;00m _global_backward_pre_hooks \u001b[38;5;129;01mor\u001b[39;00m _global_backward_hooks\n\u001b[1;32m   1540\u001b[0m         \u001b[38;5;129;01mor\u001b[39;00m _global_forward_hooks \u001b[38;5;129;01mor\u001b[39;00m _global_forward_pre_hooks):\n\u001b[0;32m-> 1541\u001b[0m     \u001b[38;5;28;01mreturn\u001b[39;00m \u001b[43mforward_call\u001b[49m\u001b[43m(\u001b[49m\u001b[38;5;241;43m*\u001b[39;49m\u001b[43margs\u001b[49m\u001b[43m,\u001b[49m\u001b[43m \u001b[49m\u001b[38;5;241;43m*\u001b[39;49m\u001b[38;5;241;43m*\u001b[39;49m\u001b[43mkwargs\u001b[49m\u001b[43m)\u001b[49m\n\u001b[1;32m   1543\u001b[0m \u001b[38;5;28;01mtry\u001b[39;00m:\n\u001b[1;32m   1544\u001b[0m     result \u001b[38;5;241m=\u001b[39m \u001b[38;5;28;01mNone\u001b[39;00m\n",
      "File \u001b[0;32m~/miniconda3/envs/env/lib/python3.10/site-packages/accelerate/hooks.py:166\u001b[0m, in \u001b[0;36madd_hook_to_module.<locals>.new_forward\u001b[0;34m(module, *args, **kwargs)\u001b[0m\n\u001b[1;32m    164\u001b[0m         output \u001b[38;5;241m=\u001b[39m module\u001b[38;5;241m.\u001b[39m_old_forward(\u001b[38;5;241m*\u001b[39margs, \u001b[38;5;241m*\u001b[39m\u001b[38;5;241m*\u001b[39mkwargs)\n\u001b[1;32m    165\u001b[0m \u001b[38;5;28;01melse\u001b[39;00m:\n\u001b[0;32m--> 166\u001b[0m     output \u001b[38;5;241m=\u001b[39m \u001b[43mmodule\u001b[49m\u001b[38;5;241;43m.\u001b[39;49m\u001b[43m_old_forward\u001b[49m\u001b[43m(\u001b[49m\u001b[38;5;241;43m*\u001b[39;49m\u001b[43margs\u001b[49m\u001b[43m,\u001b[49m\u001b[43m \u001b[49m\u001b[38;5;241;43m*\u001b[39;49m\u001b[38;5;241;43m*\u001b[39;49m\u001b[43mkwargs\u001b[49m\u001b[43m)\u001b[49m\n\u001b[1;32m    167\u001b[0m \u001b[38;5;28;01mreturn\u001b[39;00m module\u001b[38;5;241m.\u001b[39m_hf_hook\u001b[38;5;241m.\u001b[39mpost_forward(module, output)\n",
      "File \u001b[0;32m~/miniconda3/envs/env/lib/python3.10/site-packages/transformers/models/llama/modeling_llama.py:616\u001b[0m, in \u001b[0;36mLlamaSdpaAttention.forward\u001b[0;34m(self, hidden_states, attention_mask, position_ids, past_key_value, output_attentions, use_cache, cache_position, **kwargs)\u001b[0m\n\u001b[1;32m    614\u001b[0m query_states \u001b[38;5;241m=\u001b[39m \u001b[38;5;28mself\u001b[39m\u001b[38;5;241m.\u001b[39mq_proj(hidden_states)\n\u001b[1;32m    615\u001b[0m key_states \u001b[38;5;241m=\u001b[39m \u001b[38;5;28mself\u001b[39m\u001b[38;5;241m.\u001b[39mk_proj(hidden_states)\n\u001b[0;32m--> 616\u001b[0m value_states \u001b[38;5;241m=\u001b[39m \u001b[38;5;28;43mself\u001b[39;49m\u001b[38;5;241;43m.\u001b[39;49m\u001b[43mv_proj\u001b[49m\u001b[43m(\u001b[49m\u001b[43mhidden_states\u001b[49m\u001b[43m)\u001b[49m\n\u001b[1;32m    618\u001b[0m query_states \u001b[38;5;241m=\u001b[39m query_states\u001b[38;5;241m.\u001b[39mview(bsz, q_len, \u001b[38;5;28mself\u001b[39m\u001b[38;5;241m.\u001b[39mnum_heads, \u001b[38;5;28mself\u001b[39m\u001b[38;5;241m.\u001b[39mhead_dim)\u001b[38;5;241m.\u001b[39mtranspose(\u001b[38;5;241m1\u001b[39m, \u001b[38;5;241m2\u001b[39m)\n\u001b[1;32m    619\u001b[0m key_states \u001b[38;5;241m=\u001b[39m key_states\u001b[38;5;241m.\u001b[39mview(bsz, q_len, \u001b[38;5;28mself\u001b[39m\u001b[38;5;241m.\u001b[39mnum_key_value_heads, \u001b[38;5;28mself\u001b[39m\u001b[38;5;241m.\u001b[39mhead_dim)\u001b[38;5;241m.\u001b[39mtranspose(\u001b[38;5;241m1\u001b[39m, \u001b[38;5;241m2\u001b[39m)\n",
      "File \u001b[0;32m~/miniconda3/envs/env/lib/python3.10/site-packages/torch/nn/modules/module.py:1532\u001b[0m, in \u001b[0;36mModule._wrapped_call_impl\u001b[0;34m(self, *args, **kwargs)\u001b[0m\n\u001b[1;32m   1530\u001b[0m     \u001b[38;5;28;01mreturn\u001b[39;00m \u001b[38;5;28mself\u001b[39m\u001b[38;5;241m.\u001b[39m_compiled_call_impl(\u001b[38;5;241m*\u001b[39margs, \u001b[38;5;241m*\u001b[39m\u001b[38;5;241m*\u001b[39mkwargs)  \u001b[38;5;66;03m# type: ignore[misc]\u001b[39;00m\n\u001b[1;32m   1531\u001b[0m \u001b[38;5;28;01melse\u001b[39;00m:\n\u001b[0;32m-> 1532\u001b[0m     \u001b[38;5;28;01mreturn\u001b[39;00m \u001b[38;5;28;43mself\u001b[39;49m\u001b[38;5;241;43m.\u001b[39;49m\u001b[43m_call_impl\u001b[49m\u001b[43m(\u001b[49m\u001b[38;5;241;43m*\u001b[39;49m\u001b[43margs\u001b[49m\u001b[43m,\u001b[49m\u001b[43m \u001b[49m\u001b[38;5;241;43m*\u001b[39;49m\u001b[38;5;241;43m*\u001b[39;49m\u001b[43mkwargs\u001b[49m\u001b[43m)\u001b[49m\n",
      "File \u001b[0;32m~/miniconda3/envs/env/lib/python3.10/site-packages/torch/nn/modules/module.py:1541\u001b[0m, in \u001b[0;36mModule._call_impl\u001b[0;34m(self, *args, **kwargs)\u001b[0m\n\u001b[1;32m   1536\u001b[0m \u001b[38;5;66;03m# If we don't have any hooks, we want to skip the rest of the logic in\u001b[39;00m\n\u001b[1;32m   1537\u001b[0m \u001b[38;5;66;03m# this function, and just call forward.\u001b[39;00m\n\u001b[1;32m   1538\u001b[0m \u001b[38;5;28;01mif\u001b[39;00m \u001b[38;5;129;01mnot\u001b[39;00m (\u001b[38;5;28mself\u001b[39m\u001b[38;5;241m.\u001b[39m_backward_hooks \u001b[38;5;129;01mor\u001b[39;00m \u001b[38;5;28mself\u001b[39m\u001b[38;5;241m.\u001b[39m_backward_pre_hooks \u001b[38;5;129;01mor\u001b[39;00m \u001b[38;5;28mself\u001b[39m\u001b[38;5;241m.\u001b[39m_forward_hooks \u001b[38;5;129;01mor\u001b[39;00m \u001b[38;5;28mself\u001b[39m\u001b[38;5;241m.\u001b[39m_forward_pre_hooks\n\u001b[1;32m   1539\u001b[0m         \u001b[38;5;129;01mor\u001b[39;00m _global_backward_pre_hooks \u001b[38;5;129;01mor\u001b[39;00m _global_backward_hooks\n\u001b[1;32m   1540\u001b[0m         \u001b[38;5;129;01mor\u001b[39;00m _global_forward_hooks \u001b[38;5;129;01mor\u001b[39;00m _global_forward_pre_hooks):\n\u001b[0;32m-> 1541\u001b[0m     \u001b[38;5;28;01mreturn\u001b[39;00m \u001b[43mforward_call\u001b[49m\u001b[43m(\u001b[49m\u001b[38;5;241;43m*\u001b[39;49m\u001b[43margs\u001b[49m\u001b[43m,\u001b[49m\u001b[43m \u001b[49m\u001b[38;5;241;43m*\u001b[39;49m\u001b[38;5;241;43m*\u001b[39;49m\u001b[43mkwargs\u001b[49m\u001b[43m)\u001b[49m\n\u001b[1;32m   1543\u001b[0m \u001b[38;5;28;01mtry\u001b[39;00m:\n\u001b[1;32m   1544\u001b[0m     result \u001b[38;5;241m=\u001b[39m \u001b[38;5;28;01mNone\u001b[39;00m\n",
      "File \u001b[0;32m~/miniconda3/envs/env/lib/python3.10/site-packages/peft/tuners/lora/bnb.py:452\u001b[0m, in \u001b[0;36mLinear4bit.forward\u001b[0;34m(self, x, *args, **kwargs)\u001b[0m\n\u001b[1;32m    450\u001b[0m     result \u001b[38;5;241m=\u001b[39m \u001b[38;5;28mself\u001b[39m\u001b[38;5;241m.\u001b[39mbase_layer(x, \u001b[38;5;241m*\u001b[39margs, \u001b[38;5;241m*\u001b[39m\u001b[38;5;241m*\u001b[39mkwargs)\n\u001b[1;32m    451\u001b[0m \u001b[38;5;28;01melse\u001b[39;00m:\n\u001b[0;32m--> 452\u001b[0m     result \u001b[38;5;241m=\u001b[39m \u001b[38;5;28;43mself\u001b[39;49m\u001b[38;5;241;43m.\u001b[39;49m\u001b[43mbase_layer\u001b[49m\u001b[43m(\u001b[49m\u001b[43mx\u001b[49m\u001b[43m,\u001b[49m\u001b[43m \u001b[49m\u001b[38;5;241;43m*\u001b[39;49m\u001b[43margs\u001b[49m\u001b[43m,\u001b[49m\u001b[43m \u001b[49m\u001b[38;5;241;43m*\u001b[39;49m\u001b[38;5;241;43m*\u001b[39;49m\u001b[43mkwargs\u001b[49m\u001b[43m)\u001b[49m\n\u001b[1;32m    453\u001b[0m     \u001b[38;5;66;03m# As per Tim Dettmers, for 4bit, we need to defensively clone here.\u001b[39;00m\n\u001b[1;32m    454\u001b[0m     \u001b[38;5;66;03m# The reason is that in some cases, an error can occur that backprop\u001b[39;00m\n\u001b[1;32m    455\u001b[0m     \u001b[38;5;66;03m# does not work on a manipulated view. This issue may be solved with\u001b[39;00m\n\u001b[1;32m    456\u001b[0m     \u001b[38;5;66;03m# newer PyTorch versions but this would need extensive testing to be\u001b[39;00m\n\u001b[1;32m    457\u001b[0m     \u001b[38;5;66;03m# sure.\u001b[39;00m\n\u001b[1;32m    458\u001b[0m     result \u001b[38;5;241m=\u001b[39m result\u001b[38;5;241m.\u001b[39mclone()\n",
      "File \u001b[0;32m~/miniconda3/envs/env/lib/python3.10/site-packages/torch/nn/modules/module.py:1532\u001b[0m, in \u001b[0;36mModule._wrapped_call_impl\u001b[0;34m(self, *args, **kwargs)\u001b[0m\n\u001b[1;32m   1530\u001b[0m     \u001b[38;5;28;01mreturn\u001b[39;00m \u001b[38;5;28mself\u001b[39m\u001b[38;5;241m.\u001b[39m_compiled_call_impl(\u001b[38;5;241m*\u001b[39margs, \u001b[38;5;241m*\u001b[39m\u001b[38;5;241m*\u001b[39mkwargs)  \u001b[38;5;66;03m# type: ignore[misc]\u001b[39;00m\n\u001b[1;32m   1531\u001b[0m \u001b[38;5;28;01melse\u001b[39;00m:\n\u001b[0;32m-> 1532\u001b[0m     \u001b[38;5;28;01mreturn\u001b[39;00m \u001b[38;5;28;43mself\u001b[39;49m\u001b[38;5;241;43m.\u001b[39;49m\u001b[43m_call_impl\u001b[49m\u001b[43m(\u001b[49m\u001b[38;5;241;43m*\u001b[39;49m\u001b[43margs\u001b[49m\u001b[43m,\u001b[49m\u001b[43m \u001b[49m\u001b[38;5;241;43m*\u001b[39;49m\u001b[38;5;241;43m*\u001b[39;49m\u001b[43mkwargs\u001b[49m\u001b[43m)\u001b[49m\n",
      "File \u001b[0;32m~/miniconda3/envs/env/lib/python3.10/site-packages/torch/nn/modules/module.py:1541\u001b[0m, in \u001b[0;36mModule._call_impl\u001b[0;34m(self, *args, **kwargs)\u001b[0m\n\u001b[1;32m   1536\u001b[0m \u001b[38;5;66;03m# If we don't have any hooks, we want to skip the rest of the logic in\u001b[39;00m\n\u001b[1;32m   1537\u001b[0m \u001b[38;5;66;03m# this function, and just call forward.\u001b[39;00m\n\u001b[1;32m   1538\u001b[0m \u001b[38;5;28;01mif\u001b[39;00m \u001b[38;5;129;01mnot\u001b[39;00m (\u001b[38;5;28mself\u001b[39m\u001b[38;5;241m.\u001b[39m_backward_hooks \u001b[38;5;129;01mor\u001b[39;00m \u001b[38;5;28mself\u001b[39m\u001b[38;5;241m.\u001b[39m_backward_pre_hooks \u001b[38;5;129;01mor\u001b[39;00m \u001b[38;5;28mself\u001b[39m\u001b[38;5;241m.\u001b[39m_forward_hooks \u001b[38;5;129;01mor\u001b[39;00m \u001b[38;5;28mself\u001b[39m\u001b[38;5;241m.\u001b[39m_forward_pre_hooks\n\u001b[1;32m   1539\u001b[0m         \u001b[38;5;129;01mor\u001b[39;00m _global_backward_pre_hooks \u001b[38;5;129;01mor\u001b[39;00m _global_backward_hooks\n\u001b[1;32m   1540\u001b[0m         \u001b[38;5;129;01mor\u001b[39;00m _global_forward_hooks \u001b[38;5;129;01mor\u001b[39;00m _global_forward_pre_hooks):\n\u001b[0;32m-> 1541\u001b[0m     \u001b[38;5;28;01mreturn\u001b[39;00m \u001b[43mforward_call\u001b[49m\u001b[43m(\u001b[49m\u001b[38;5;241;43m*\u001b[39;49m\u001b[43margs\u001b[49m\u001b[43m,\u001b[49m\u001b[43m \u001b[49m\u001b[38;5;241;43m*\u001b[39;49m\u001b[38;5;241;43m*\u001b[39;49m\u001b[43mkwargs\u001b[49m\u001b[43m)\u001b[49m\n\u001b[1;32m   1543\u001b[0m \u001b[38;5;28;01mtry\u001b[39;00m:\n\u001b[1;32m   1544\u001b[0m     result \u001b[38;5;241m=\u001b[39m \u001b[38;5;28;01mNone\u001b[39;00m\n",
      "File \u001b[0;32m~/miniconda3/envs/env/lib/python3.10/site-packages/accelerate/hooks.py:166\u001b[0m, in \u001b[0;36madd_hook_to_module.<locals>.new_forward\u001b[0;34m(module, *args, **kwargs)\u001b[0m\n\u001b[1;32m    164\u001b[0m         output \u001b[38;5;241m=\u001b[39m module\u001b[38;5;241m.\u001b[39m_old_forward(\u001b[38;5;241m*\u001b[39margs, \u001b[38;5;241m*\u001b[39m\u001b[38;5;241m*\u001b[39mkwargs)\n\u001b[1;32m    165\u001b[0m \u001b[38;5;28;01melse\u001b[39;00m:\n\u001b[0;32m--> 166\u001b[0m     output \u001b[38;5;241m=\u001b[39m \u001b[43mmodule\u001b[49m\u001b[38;5;241;43m.\u001b[39;49m\u001b[43m_old_forward\u001b[49m\u001b[43m(\u001b[49m\u001b[38;5;241;43m*\u001b[39;49m\u001b[43margs\u001b[49m\u001b[43m,\u001b[49m\u001b[43m \u001b[49m\u001b[38;5;241;43m*\u001b[39;49m\u001b[38;5;241;43m*\u001b[39;49m\u001b[43mkwargs\u001b[49m\u001b[43m)\u001b[49m\n\u001b[1;32m    167\u001b[0m \u001b[38;5;28;01mreturn\u001b[39;00m module\u001b[38;5;241m.\u001b[39m_hf_hook\u001b[38;5;241m.\u001b[39mpost_forward(module, output)\n",
      "File \u001b[0;32m~/miniconda3/envs/env/lib/python3.10/site-packages/bitsandbytes/nn/modules.py:470\u001b[0m, in \u001b[0;36mLinear4bit.forward\u001b[0;34m(self, x)\u001b[0m\n\u001b[1;32m    467\u001b[0m bias \u001b[38;5;241m=\u001b[39m \u001b[38;5;28;01mNone\u001b[39;00m \u001b[38;5;28;01mif\u001b[39;00m \u001b[38;5;28mself\u001b[39m\u001b[38;5;241m.\u001b[39mbias \u001b[38;5;129;01mis\u001b[39;00m \u001b[38;5;28;01mNone\u001b[39;00m \u001b[38;5;28;01melse\u001b[39;00m \u001b[38;5;28mself\u001b[39m\u001b[38;5;241m.\u001b[39mbias\u001b[38;5;241m.\u001b[39mto(\u001b[38;5;28mself\u001b[39m\u001b[38;5;241m.\u001b[39mcompute_dtype)\n\u001b[1;32m    468\u001b[0m out \u001b[38;5;241m=\u001b[39m bnb\u001b[38;5;241m.\u001b[39mmatmul_4bit(x, \u001b[38;5;28mself\u001b[39m\u001b[38;5;241m.\u001b[39mweight\u001b[38;5;241m.\u001b[39mt(), bias\u001b[38;5;241m=\u001b[39mbias, quant_state\u001b[38;5;241m=\u001b[39m\u001b[38;5;28mself\u001b[39m\u001b[38;5;241m.\u001b[39mweight\u001b[38;5;241m.\u001b[39mquant_state)\n\u001b[0;32m--> 470\u001b[0m out \u001b[38;5;241m=\u001b[39m \u001b[43mout\u001b[49m\u001b[38;5;241;43m.\u001b[39;49m\u001b[43mto\u001b[49m\u001b[43m(\u001b[49m\u001b[43minp_dtype\u001b[49m\u001b[43m)\u001b[49m\n\u001b[1;32m    472\u001b[0m \u001b[38;5;28;01mreturn\u001b[39;00m out\n",
      "\u001b[0;31mKeyboardInterrupt\u001b[0m: "
     ]
    }
   ],
   "source": [
    "# load data and generate target\n",
    "\n",
    "# for dataset in data directory\n",
    "for file_name in os.listdir('data/'):\n",
    "    file_name = file_name.split('.')[0]\n",
    "    print(file_name)\n",
    "\n",
    "    # load and preprocess dataset\n",
    "    df = pd.read_csv(f'data/{file_name}.csv')\n",
    "    df['file_name'] = file_name\n",
    "\n",
    "    list_of_dicts = df.to_dict(orient='records')\n",
    "\n",
    "    # for row in dataset generate target \n",
    "    for dict in list_of_dicts:\n",
    "\n",
    "        text = str({'file_name': file_name, 'source': dict})\n",
    "        text = text+ \", 'target':\"\n",
    "        print('row: \\n', text)\n",
    "\n",
    "        batch = tokenizer(text, return_tensors='pt')\n",
    "        input_ids = batch.to('cuda')\n",
    "\n",
    "        with torch.cuda.amp.autocast():\n",
    "            output_tokens = model.generate(**input_ids, max_new_tokens=250, num_beams=1)#, eos_token_id=stop_token_id)\n",
    "        \n",
    "        result = tokenizer.decode(output_tokens[0], skip_special_tokens=True).split('\\n')[0]\n",
    "\n",
    "        print('generated: \\n', result)\n",
    "        print()\n",
    "    print(\"#################\")"
   ]
  },
  {
   "cell_type": "code",
   "execution_count": 3,
   "metadata": {},
   "outputs": [
    {
     "name": "stdout",
     "output_type": "stream",
     "text": [
      "transfersFile-0\n",
      "tradesFile-0 (2)\n",
      "[{'Uuid': '5e505b2b-4213-43d6-83ca-812f1a27c481', 'Exchange': 'BTC-LTC', 'Closed (UTC)': '2017-12-05 13:57:52Z', 'Opened (UTC)': '2017-12-05 13:57:52Z', 'Type': 'LIMIT_SELL', 'Time In Force': 'IMMEDIATE_OR_CANCEL', 'Bid/Ask': 0.00864551, 'Quantity': 79.4241529, 'Remaining': 0.0, 'Price': 0.6866623, 'Avg. Price per Share': 0.00864551, 'file_name': 'tradesFile-0 (2)'}, {'Uuid': 'cdbe50bc-2b3f-4f85-a164-4a01713e7634', 'Exchange': 'ETH-LTC', 'Closed (UTC)': '2017-12-05 13:16:21Z', 'Opened (UTC)': '2017-12-05 13:16:21Z', 'Type': 'LIMIT_BUY', 'Time In Force': 'IMMEDIATE_OR_CANCEL', 'Bid/Ask': 0.22199999, 'Quantity': 79.4241529, 'Remaining': 0.0, 'Price': 17.63216114, 'Avg. Price per Share': 0.22199999, 'file_name': 'tradesFile-0 (2)'}, {'Uuid': '05bc699a-0f9d-4ee9-b92a-e9ab6cfa31ee', 'Exchange': 'BTC-ETH', 'Closed (UTC)': '2017-12-05 13:08:57Z', 'Opened (UTC)': '2017-12-05 13:08:57Z', 'Type': 'LIMIT_BUY', 'Time In Force': 'IMMEDIATE_OR_CANCEL', 'Bid/Ask': 0.03898, 'Quantity': 17.67635203, 'Remaining': 0.0, 'Price': 0.68896811, 'Avg. Price per Share': 0.03897683, 'file_name': 'tradesFile-0 (2)'}]\n",
      "row: \n",
      " {'file_name': 'tradesFile-0 (2)', 'source': {'Uuid': '5e505b2b-4213-43d6-83ca-812f1a27c481', 'Exchange': 'BTC-LTC', 'Closed (UTC)': '2017-12-05 13:57:52Z', 'Opened (UTC)': '2017-12-05 13:57:52Z', 'Type': 'LIMIT_SELL', 'Time In Force': 'IMMEDIATE_OR_CANCEL', 'Bid/Ask': 0.00864551, 'Quantity': 79.4241529, 'Remaining': 0.0, 'Price': 0.6866623, 'Avg. Price per Share': 0.00864551, 'file_name': 'tradesFile-0 (2)'}}, 'target':\n"
     ]
    },
    {
     "name": "stderr",
     "output_type": "stream",
     "text": [
      "/home/ubuntu/miniconda3/envs/env/lib/python3.10/site-packages/bitsandbytes/nn/modules.py:426: UserWarning: Input type into Linear4bit is torch.float16, but bnb_4bit_compute_dtype=torch.float32 (default). This will lead to slow inference or training speed.\n",
      "  warnings.warn(\n"
     ]
    },
    {
     "name": "stdout",
     "output_type": "stream",
     "text": [
      "generated: \n",
      " {'file_name': 'tradesFile-0 (2)', 'source': {'Uuid': '5e505b2b-4213-43d6-83ca-812f1a27c481', 'Exchange': 'BTC-LTC', 'Closed (UTC)': '2017-12-05 13:57:52Z', 'Opened (UTC)': '2017-12-05 13:57:52Z', 'Type': 'LIMIT_SELL', 'Time In Force': 'IMMEDIATE_OR_CANCEL', 'Bid/Ask': 0.00864551, 'Quantity': 79.4241529, 'Remaining': 0.0, 'Price': 0.6866623, 'Avg. Price per Share': 0.00864551, 'file_name': 'tradesFile-0 (2)'}}, 'target': {'Date': '12/05/2017 13:57:52', 'inBuyAmount': 0.6866623, 'inBuyAsset': 'LTC', 'outSellAmount': 0.00864551, 'outSellAsset': 'BTC', 'transactionType_raw': 'LIMIT_SELL', 'transactionType': 'order', 'comments': nan, 'transactionId': nan, 'operationId': '5e505b2b-4213-43d6-83ca-812f1a27c481', 'feeAmount': nan, 'feeAsset': nan}}\n",
      "\n",
      "row: \n",
      " {'file_name': 'tradesFile-0 (2)', 'source': {'Uuid': 'cdbe50bc-2b3f-4f85-a164-4a01713e7634', 'Exchange': 'ETH-LTC', 'Closed (UTC)': '2017-12-05 13:16:21Z', 'Opened (UTC)': '2017-12-05 13:16:21Z', 'Type': 'LIMIT_BUY', 'Time In Force': 'IMMEDIATE_OR_CANCEL', 'Bid/Ask': 0.22199999, 'Quantity': 79.4241529, 'Remaining': 0.0, 'Price': 17.63216114, 'Avg. Price per Share': 0.22199999, 'file_name': 'tradesFile-0 (2)'}}, 'target':\n",
      "generated: \n",
      " {'file_name': 'tradesFile-0 (2)', 'source': {'Uuid': 'cdbe50bc-2b3f-4f85-a164-4a01713e7634', 'Exchange': 'ETH-LTC', 'Closed (UTC)': '2017-12-05 13:16:21Z', 'Opened (UTC)': '2017-12-05 13:16:21Z', 'Type': 'LIMIT_BUY', 'Time In Force': 'IMMEDIATE_OR_CANCEL', 'Bid/Ask': 0.22199999, 'Quantity': 79.4241529, 'Remaining': 0.0, 'Price': 17.63216114, 'Avg. Price per Share': 0.22199999, 'file_name': 'tradesFile-0 (2)'}}, 'target': {'Date': '12/05/2017 13:16:21', 'inBuyAmount': 79.4241529, 'inBuyAsset': 'ETH', 'outSellAmount': 1.7632161140999999, 'outSellAsset': 'LTC', 'transactionType_raw': 'LIMIT_BUY', 'transactionType': 'order', 'comments': nan, 'transactionId': nan, 'operationId': 'cdbe50bc-2b3f-4f85-a164-4a01713e7634', 'feeAmount': nan, 'feeAsset': nan}}\n",
      "\n",
      "row: \n",
      " {'file_name': 'tradesFile-0 (2)', 'source': {'Uuid': '05bc699a-0f9d-4ee9-b92a-e9ab6cfa31ee', 'Exchange': 'BTC-ETH', 'Closed (UTC)': '2017-12-05 13:08:57Z', 'Opened (UTC)': '2017-12-05 13:08:57Z', 'Type': 'LIMIT_BUY', 'Time In Force': 'IMMEDIATE_OR_CANCEL', 'Bid/Ask': 0.03898, 'Quantity': 17.67635203, 'Remaining': 0.0, 'Price': 0.68896811, 'Avg. Price per Share': 0.03897683, 'file_name': 'tradesFile-0 (2)'}}, 'target':\n",
      "generated: \n",
      " {'file_name': 'tradesFile-0 (2)', 'source': {'Uuid': '05bc699a-0f9d-4ee9-b92a-e9ab6cfa31ee', 'Exchange': 'BTC-ETH', 'Closed (UTC)': '2017-12-05 13:08:57Z', 'Opened (UTC)': '2017-12-05 13:08:57Z', 'Type': 'LIMIT_BUY', 'Time In Force': 'IMMEDIATE_OR_CANCEL', 'Bid/Ask': 0.03898, 'Quantity': 17.67635203, 'Remaining': 0.0, 'Price': 0.68896811, 'Avg. Price per Share': 0.03897683, 'file_name': 'tradesFile-0 (2)'}}, 'target': {'Date': '12/05/2017 13:08:57', 'inBuyAmount': 0.03898, 'inBuyAsset': 'BTC', 'outSellAmount': 0.6889681101607999, 'outSellAsset': 'ETH', 'transactionType_raw': 'LIMIT_BUY', 'transactionType': 'order', 'comments': nan, 'transactionId': nan, 'operationId': '05bc699a-0f9d-4ee9-b92a-e9ab6cfa31ee', 'feeAmount': nan, 'feeAsset': nan}}\n",
      "\n"
     ]
    }
   ],
   "source": [
    "# for row in dataset generate target\n",
    "\n",
    "# for dataset in data directory\n",
    "for file_name in os.listdir('data/'):\n",
    "    file_name = file_name.split('.')[0]\n",
    "    print(file_name)\n",
    "\n",
    "    # load and preprocess dataset\n",
    "    df = pd.read_csv(f'data/{file_name}.csv')\n",
    "    df['file_name'] = file_name\n",
    "\n",
    "    list_of_dicts = df.to_dict(orient='records')\n",
    "\n",
    "    \n",
    "print(list_of_dicts[:3]) \n",
    "\n",
    "for dict in list_of_dicts[:3]:\n",
    "\n",
    "    text = str({'file_name': file_name, 'source': dict})\n",
    "    text = text+ \", 'target':\"\n",
    "    print('row: \\n', text)\n",
    "\n",
    "    batch = tokenizer(text, return_tensors='pt')\n",
    "    input_ids = batch.to('cuda')\n",
    "\n",
    "    with torch.cuda.amp.autocast():\n",
    "        output_tokens = model.generate(**input_ids, max_new_tokens=250, num_beams=1)#, eos_token_id=stop_token_id)\n",
    "    \n",
    "    result = tokenizer.decode(output_tokens[0], skip_special_tokens=True).split('\\n')[0]\n",
    "\n",
    "    print('generated: \\n', result)\n",
    "    print()\n"
   ]
  },
  {
   "cell_type": "code",
   "execution_count": 5,
   "metadata": {},
   "outputs": [
    {
     "name": "stdout",
     "output_type": "stream",
     "text": [
      "transfersFile-0\n",
      "tradesFile-0 (2)\n",
      "[{'Uuid': '5e505b2b-4213-43d6-83ca-812f1a27c481', 'Exchange': 'BTC-LTC', 'Closed (UTC)': '2017-12-05 13:57:52Z', 'Opened (UTC)': '2017-12-05 13:57:52Z', 'Type': 'LIMIT_SELL', 'Time In Force': 'IMMEDIATE_OR_CANCEL', 'Bid/Ask': 0.00864551, 'Quantity': 79.4241529, 'Remaining': 0.0, 'Price': 0.6866623, 'Avg. Price per Share': 0.00864551, 'file_name': 'tradesFile-0 (2)'}, {'Uuid': 'cdbe50bc-2b3f-4f85-a164-4a01713e7634', 'Exchange': 'ETH-LTC', 'Closed (UTC)': '2017-12-05 13:16:21Z', 'Opened (UTC)': '2017-12-05 13:16:21Z', 'Type': 'LIMIT_BUY', 'Time In Force': 'IMMEDIATE_OR_CANCEL', 'Bid/Ask': 0.22199999, 'Quantity': 79.4241529, 'Remaining': 0.0, 'Price': 17.63216114, 'Avg. Price per Share': 0.22199999, 'file_name': 'tradesFile-0 (2)'}, {'Uuid': '05bc699a-0f9d-4ee9-b92a-e9ab6cfa31ee', 'Exchange': 'BTC-ETH', 'Closed (UTC)': '2017-12-05 13:08:57Z', 'Opened (UTC)': '2017-12-05 13:08:57Z', 'Type': 'LIMIT_BUY', 'Time In Force': 'IMMEDIATE_OR_CANCEL', 'Bid/Ask': 0.03898, 'Quantity': 17.67635203, 'Remaining': 0.0, 'Price': 0.68896811, 'Avg. Price per Share': 0.03897683, 'file_name': 'tradesFile-0 (2)'}]\n",
      "{'Uuid': '5e505b2b-4213-43d6-83ca-812f1a27c481', 'Exchange': 'BTC-LTC', 'Closed (UTC)': '2017-12-05 13:57:52Z', 'Opened (UTC)': '2017-12-05 13:57:52Z', 'Type': 'LIMIT_SELL', 'Time In Force': 'IMMEDIATE_OR_CANCEL', 'Bid/Ask': 0.00864551, 'Quantity': 79.4241529, 'Remaining': 0.0, 'Price': 0.6866623, 'Avg. Price per Share': 0.00864551, 'file_name': 'tradesFile-0 (2)'}, 'target': {'Date': '12/05/2017 1\n",
      "{'Uuid': 'cdbe50bc-2b3f-4f85-a164-4a01713e7634', 'Exchange': 'ETH-LTC', 'Closed (UTC)': '2017-12-05 13:16:21Z', 'Opened (UTC)': '2017-12-05 13:16:21Z', 'Type': 'LIMIT_BUY', 'Time In Force': 'IMMEDIATE_OR_CANCEL', 'Bid/Ask': 0.22199999, 'Quantity': 79.4241529, 'Remaining': 0.0, 'Price': 17.63216114, 'Avg. Price per Share': 0.22199999, 'file_name': 'tradesFile-0 (2)'}, 'target': {'Date': '12/05/2017 1\n",
      "{'Uuid': '05bc699a-0f9d-4ee9-b92a-e9ab6cfa31ee', 'Exchange': 'BTC-ETH', 'Closed (UTC)': '2017-12-05 13:08:57Z', 'Opened (UTC)': '2017-12-05 13:08:57Z', 'Type': 'LIMIT_BUY', 'Time In Force': 'IMMEDIATE_OR_CANCEL', 'Bid/Ask': 0.03898, 'Quantity': 17.67635203, 'Remaining': 0.0, 'Price': 0.68896811, 'Avg. Price per Share': 0.03897683, 'file_name': 'tradesFile-0 (2)'}, 'target': ← The Gift of a Fresh Start\n"
     ]
    }
   ],
   "source": [
    "# batched generation \n",
    "\n",
    "# for dataset in data directory\n",
    "for file_name in os.listdir('data/'):\n",
    "    file_name = file_name.split('.')[0]\n",
    "    print(file_name)\n",
    "\n",
    "    # load and preprocess dataset\n",
    "    df = pd.read_csv(f'data/{file_name}.csv')\n",
    "    df['file_name'] = file_name\n",
    "\n",
    "    list_of_dicts = df.to_dict(orient='records')\n",
    "\n",
    "\n",
    "input_texts = []\n",
    "\n",
    "for row in list_of_dicts:\n",
    "\n",
    "    text = str(row)\n",
    "    text = text+ \", 'target':\" \n",
    "    input_texts.append(text)\n",
    "\n",
    "    #batch = tokenizer(text, return_tensors='pt')\n",
    "    #input_ids.append(batch.to('cuda'))\n",
    "\n",
    "print(list_of_dicts[:3])    \n",
    "\n",
    "input_texts = input_texts[:3]\n",
    "input_ids = tokenizer(input_texts, return_tensors='pt', padding=True).input_ids.to('cuda')\n",
    "\n",
    "# Generate text using beam search\n",
    "with torch.cuda.amp.autocast():\n",
    "    outputs = model.generate(input_ids, num_beams=1, max_length=250)\n",
    "\n",
    "# Decode the generated texts\n",
    "generated_texts = [tokenizer.decode(output, skip_special_tokens=True).split('\\n')[0] for output in outputs]\n",
    "\n",
    "for i in generated_texts:\n",
    "    print(i)"
   ]
  },
  {
   "cell_type": "code",
   "execution_count": 7,
   "metadata": {},
   "outputs": [
    {
     "name": "stdout",
     "output_type": "stream",
     "text": [
      "{'Uuid': '5e505b2b-4213-43d6-83ca-812f1a27c481', 'Exchange': 'BTC-LTC', 'Closed (UTC)': '2017-12-05 13:57:52Z', 'Opened (UTC)': '2017-12-05 13:57:52Z', 'Type': 'LIMIT_SELL', 'Time In Force': 'IMMEDIATE_OR_CANCEL', 'Bid/Ask': 0.00864551, 'Quantity': 79.4241529, 'Remaining': 0.0, 'Price': 0.6866623, 'Avg. Price per Share': 0.00864551, 'file_name': 'tradesFile-0 (2)'}, 'target': {'Date': '12/05/2017 13:57:52', 'inBuyAmount': 0.6866623, 'inBuyAsset': 'LTC', 'outSellAmount': 0.00864551, 'outSellAsset': 'BTC', 'transactionType_raw': 'LIMIT_SELL', 'transactionType': 'order', 'comments': 'IMMEDIATE_OR_CANCEL', 'transactionId': nan, 'operationId': '5e505b2b-4213-43d6-83ca-812f1a27c481', 'feeAmount': nan, 'feeAsset': nan}}\n",
      "{'Uuid': 'cdbe50bc-2b3f-4f85-a164-4a01713e7634', 'Exchange': 'ETH-LTC', 'Closed (UTC)': '2017-12-05 13:16:21Z', 'Opened (UTC)': '2017-12-05 13:16:21Z', 'Type': 'LIMIT_BUY', 'Time In Force': 'IMMEDIATE_OR_CANCEL', 'Bid/Ask': 0.22199999, 'Quantity': 79.4241529, 'Remaining': 0.0, 'Price': 17.63216114, 'Avg. Price per Share': 0.22199999, 'file_name': 'tradesFile-0 (2)'}, 'target': {'Date': '12/05/2017 13:16:21', 'inBuyAmount': 79.4241529, 'inBuyAsset': 'ETH', 'outSellAmount': 1.4664463896199999, 'outSellAsset': 'LTC', 'transactionType_raw': 'LIMIT_BUY', 'transactionType': 'order', 'comments': nan, 'transactionId': nan, 'operationId': 'cdbe50bc-2b3f-4f85-a164-4a01713e7634', 'feeAmount': nan, 'feeAsset': nan}}\n",
      "{'Uuid': '05bc699a-0f9d-4ee9-b92a-e9ab6cfa31ee', 'Exchange': 'BTC-ETH', 'Closed (UTC)': '2017-12-05 13:08:57Z', 'Opened (UTC)': '2017-12-05 13:08:57Z', 'Type': 'LIMIT_BUY', 'Time In Force': 'IMMEDIATE_OR_CANCEL', 'Bid/Ask': 0.03898, 'Quantity': 17.67635203, 'Remaining': 0.0, 'Price': 0.68896811, 'Avg. Price per Share': 0.03897683, 'file_name': 'tradesFile-0 (2)'}, 'target': Home / News / Industry News / How to use the vacuum pump to clean the car\n"
     ]
    }
   ],
   "source": [
    "for i in generated_texts:\n",
    "    print(i)"
   ]
  },
  {
   "cell_type": "code",
   "execution_count": null,
   "metadata": {},
   "outputs": [],
   "source": []
  }
 ],
 "metadata": {
  "kernelspec": {
   "display_name": "env",
   "language": "python",
   "name": "python3"
  },
  "language_info": {
   "codemirror_mode": {
    "name": "ipython",
    "version": 3
   },
   "file_extension": ".py",
   "mimetype": "text/x-python",
   "name": "python",
   "nbconvert_exporter": "python",
   "pygments_lexer": "ipython3",
   "version": "3.10.14"
  }
 },
 "nbformat": 4,
 "nbformat_minor": 2
}
